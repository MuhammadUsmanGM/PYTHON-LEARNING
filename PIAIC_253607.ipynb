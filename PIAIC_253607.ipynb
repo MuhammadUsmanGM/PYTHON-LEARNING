{
  "nbformat": 4,
  "nbformat_minor": 0,
  "metadata": {
    "colab": {
      "provenance": []
    },
    "kernelspec": {
      "name": "python3",
      "display_name": "Python 3"
    },
    "language_info": {
      "name": "python"
    }
  },
  "cells": [
    {
      "cell_type": "markdown",
      "source": [
        "Muhammad Usman\n",
        "PIAIC253607"
      ],
      "metadata": {
        "id": "Cj5YizYm7RCn"
      }
    },
    {
      "cell_type": "markdown",
      "source": [
        "1.Ticket pricing system"
      ],
      "metadata": {
        "id": "WlJyG-rom_QQ"
      }
    },
    {
      "cell_type": "code",
      "source": [
        "age=int(input('Enter Your Age: '))\n",
        "if age<=5:\n",
        "    print('Ticket:Free')\n",
        "elif age>5 and age<=17:\n",
        "    print('Ticket:10$')\n",
        "elif age>=18 and age<=60:\n",
        "    print('Ticket:20$')\n",
        "else:\n",
        "    print('Ticket:15$')"
      ],
      "metadata": {
        "colab": {
          "base_uri": "https://localhost:8080/"
        },
        "id": "BYoj144OnKws",
        "outputId": "3a851701-7f84-4d6e-9e8f-6130740ab87c"
      },
      "execution_count": null,
      "outputs": [
        {
          "output_type": "stream",
          "name": "stdout",
          "text": [
            "Enter Your Age: 68\n",
            "Ticket:15$\n"
          ]
        }
      ]
    },
    {
      "cell_type": "markdown",
      "source": [
        "2.Meal recomendation"
      ],
      "metadata": {
        "id": "7ETsRy0QnS08"
      }
    },
    {
      "cell_type": "code",
      "source": [
        "Time=int(input('Enter time in 24hrs format(e.g 13 for 1): '))\n",
        "if Time>=5 and Time<=11:\n",
        "    print('Its time for Breakfast')\n",
        "elif Time>=12 and Time<=16:\n",
        "    print('Time for Lunch')\n",
        "elif Time>=17 and Time<=21:\n",
        "    print('Its time for Dinner')\n",
        "else:\n",
        "    print('Time to have some Late-Night Snacks')"
      ],
      "metadata": {
        "colab": {
          "base_uri": "https://localhost:8080/"
        },
        "id": "S0MBymNYnXt1",
        "outputId": "e537abe7-a879-4c76-921f-d9f9dd6fc8ec"
      },
      "execution_count": null,
      "outputs": [
        {
          "output_type": "stream",
          "name": "stdout",
          "text": [
            "Enter time in 24hrs format(e.g 13 for 1): 4\n",
            "Time to have some Late-Night Snacks\n"
          ]
        }
      ]
    },
    {
      "cell_type": "markdown",
      "source": [
        "3.Grocery bill calculator"
      ],
      "metadata": {
        "id": "WpUAy0y7oJiy"
      }
    },
    {
      "cell_type": "code",
      "source": [
        "Item1=float(input('Enter Price of Item1: '))\n",
        "Item2=float(input('Enter Price of Item2: '))\n",
        "Item3=float(input('Enter Price of Item3: '))\n",
        "Item4=float(input('Enter Price of Item4: '))\n",
        "Item5=float(input('Enter Price of Item5: '))\n",
        "#for total bill\n",
        "total_bill=Item1+Item2+Item3+Item4+Item5\n",
        "print(f'your total bill is: {total_bill}')\n",
        "if total_bill>100:\n",
        "  discount=total_bill*0.10\n",
        "  discounted_total=total_bill-discount\n",
        "  print(f'Discounted_total: {discounted_total}')"
      ],
      "metadata": {
        "colab": {
          "base_uri": "https://localhost:8080/"
        },
        "id": "fvy55M8M7jGJ",
        "outputId": "04c90908-3c7a-4232-b092-f3f57099c7a1"
      },
      "execution_count": null,
      "outputs": [
        {
          "output_type": "stream",
          "name": "stdout",
          "text": [
            "Enter Price of Item1: 65.90\n",
            "Enter Price of Item2: 87.50\n",
            "Enter Price of Item3: 5.50\n",
            "Enter Price of Item4: 78.67\n",
            "Enter Price of Item5: 72\n",
            "your total bill is: 309.57\n",
            "Discounted_total: 278.613\n"
          ]
        }
      ]
    },
    {
      "cell_type": "markdown",
      "source": [
        "4.Username validator"
      ],
      "metadata": {
        "id": "tfzDhuxxq12B"
      }
    },
    {
      "cell_type": "code",
      "source": [
        "import re\n",
        "username=input('Enter a username: ')\n",
        "if len(username)>=5 and len(username)<=15 and re.match(\"^[a-zA-z]\",username):\n",
        "  print('Valid username')\n",
        "else:\n",
        "  print('Invalid username')"
      ],
      "metadata": {
        "colab": {
          "base_uri": "https://localhost:8080/"
        },
        "id": "YrfrdfWjq6kl",
        "outputId": "f902f648-10d7-4995-e795-d519a86a6819"
      },
      "execution_count": null,
      "outputs": [
        {
          "output_type": "stream",
          "name": "stdout",
          "text": [
            "Enter a username: MuhammadUsman\n",
            "Valid username\n"
          ]
        }
      ]
    },
    {
      "cell_type": "markdown",
      "source": [
        "5.Travel destination suggestion"
      ],
      "metadata": {
        "id": "rweIPJkMt31_"
      }
    },
    {
      "cell_type": "code",
      "source": [
        "weather=input(\"How's the weather?(sunny,rainy,snowy): \" ).lower()\n",
        "if weather=='sunny':\n",
        "  print('You should go for a beach vacation')\n",
        "elif weather=='rainy':\n",
        "  print('Visit a cozy mountain lodge!')\n",
        "elif weather=='snowy':\n",
        "  print('Time for a ski trip!')\n",
        "else:\n",
        "  print('Not sure about weather but hope you have adventure')"
      ],
      "metadata": {
        "colab": {
          "base_uri": "https://localhost:8080/"
        },
        "id": "tPJ4AvDEt2Ul",
        "outputId": "643a94ae-6b97-417a-d210-c933864dcd94"
      },
      "execution_count": null,
      "outputs": [
        {
          "output_type": "stream",
          "name": "stdout",
          "text": [
            "How's the weather?(sunny,rainy,snowy): SUNNY\n",
            "You should go for a beach vacation\n"
          ]
        }
      ]
    },
    {
      "cell_type": "markdown",
      "source": [
        "6.Discount Eligibility checker"
      ],
      "metadata": {
        "id": "F9kLzPFbwTQP"
      }
    },
    {
      "cell_type": "code",
      "source": [
        "total_spent=int(input('Enter total amount spent: '))\n",
        "loyalty_member=input('Are you a loyalty member(yes/no): ').lower()\n",
        "if total_spent>200 or loyalty_member=='yes':\n",
        "  print('You are eligible for a discount')\n",
        "else:\n",
        "  print('You are not eligible for a discount')"
      ],
      "metadata": {
        "colab": {
          "base_uri": "https://localhost:8080/"
        },
        "id": "EiOHz209wZ1K",
        "outputId": "b6748258-95da-4e33-bd93-1f9cd7952650"
      },
      "execution_count": null,
      "outputs": [
        {
          "output_type": "stream",
          "name": "stdout",
          "text": [
            "Enter total amount spent: 293\n",
            "Are you a loyalty member(yes/no): no\n",
            "You are eligible for a discount\n"
          ]
        }
      ]
    },
    {
      "cell_type": "markdown",
      "source": [
        "7.Event invitation"
      ],
      "metadata": {
        "id": "Kup13mm7xO-E"
      }
    },
    {
      "cell_type": "code",
      "source": [
        "guests:list=['ali','ahmad','fahad','farman','farhan']\n",
        "name=input('Enter your name: ').lower()\n",
        "if name in guests:\n",
        "  print('You are invited')\n",
        "else:\n",
        "  print('You are not invited')"
      ],
      "metadata": {
        "colab": {
          "base_uri": "https://localhost:8080/"
        },
        "id": "oL7P48iMxZfL",
        "outputId": "1d6308cd-c4b9-4e96-ea78-ec1c9695d88d"
      },
      "execution_count": null,
      "outputs": [
        {
          "output_type": "stream",
          "name": "stdout",
          "text": [
            "Enter your name: ALI\n",
            "You are invited\n"
          ]
        }
      ]
    },
    {
      "cell_type": "markdown",
      "source": [
        "8.Movie streaming eligibility"
      ],
      "metadata": {
        "id": "MaAeeba_yJ1-"
      }
    },
    {
      "cell_type": "code",
      "source": [
        "age = int(input(\"Enter your age: \"))\n",
        "movie_type = input(\"Enter the type of movie you want to watch (Action, Animated, Documentary): \").lower()\n",
        "if movie_type == \"action\":\n",
        "    if age >= 18:\n",
        "        print(\"You are eligible to watch Action movies.\")\n",
        "    else:\n",
        "        print(\"You are not eligible to watch Action movies. You must be 18 or older.\")\n",
        "elif movie_type == \"animated\":\n",
        "    print(\"You are eligible to watch Animated movies.\")\n",
        "elif movie_type == \"documentary\":\n",
        "    if age >= 12:\n",
        "        print(\"You are eligible to watch Documentaries.\")\n",
        "    else:\n",
        "        print(\"You are not eligible to watch Documentaries. You must be 12 or older.\")\n",
        "else:\n",
        "    print(\"Invalid movie type.\")"
      ],
      "metadata": {
        "colab": {
          "base_uri": "https://localhost:8080/"
        },
        "id": "KAxbCXf_yP2n",
        "outputId": "56cfd451-0d3a-4230-8901-da0e7dc252fa"
      },
      "execution_count": null,
      "outputs": [
        {
          "output_type": "stream",
          "name": "stdout",
          "text": [
            "Enter your age: 19\n",
            "Enter the type of movie you want to watch (Action, Animated, Documentary): action\n",
            "You are eligible to watch Action movies.\n"
          ]
        }
      ]
    },
    {
      "cell_type": "markdown",
      "source": [
        "9.Phone number formater"
      ],
      "metadata": {
        "id": "T-H-TzkOzVW2"
      }
    },
    {
      "cell_type": "code",
      "source": [
        "number=input('Enter your phone number: ')\n",
        "print(f'({number[0:2]}) {number[2:5]}-{number[5:]}')"
      ],
      "metadata": {
        "colab": {
          "base_uri": "https://localhost:8080/"
        },
        "id": "JeJLNWEzzcOh",
        "outputId": "2bf65cfa-5d03-4a4d-815e-d22a1c19543b"
      },
      "execution_count": null,
      "outputs": [
        {
          "output_type": "stream",
          "name": "stdout",
          "text": [
            "Enter your phone number: 923446455823\n",
            "(92) 344-6455823\n"
          ]
        }
      ]
    },
    {
      "cell_type": "markdown",
      "source": [
        "10.Package shipping cost"
      ],
      "metadata": {
        "id": "qTYPvJp51cgh"
      }
    },
    {
      "cell_type": "code",
      "source": [
        "weight=float(input('Enter package wieght in kg: '))\n",
        "if weight<=1:\n",
        "  print('Shipping cost: $5')\n",
        "elif weight>1 and weight<=5:\n",
        "  print('Shipping cost: $10')\n",
        "elif weight>5 and weight<=20:\n",
        "  print('Shipping cost: $20')\n",
        "else:\n",
        "  print('Shipping cost: $50')"
      ],
      "metadata": {
        "colab": {
          "base_uri": "https://localhost:8080/"
        },
        "id": "deFT580t1uW6",
        "outputId": "74826a40-f074-4398-905a-c231fae625d5"
      },
      "execution_count": null,
      "outputs": [
        {
          "output_type": "stream",
          "name": "stdout",
          "text": [
            "Enter package wieght in kg: 27.7\n",
            "Shipping cost: $50\n"
          ]
        }
      ]
    },
    {
      "cell_type": "markdown",
      "source": [
        "11.Student Gradind system"
      ],
      "metadata": {
        "id": "ioqh8wil2z76"
      }
    },
    {
      "cell_type": "code",
      "source": [
        "subject1=float(input('Enter marks of subject1: '))\n",
        "subject2=float(input('Enter marks of subject2: '))\n",
        "subject3=float(input('Enter marks of subject3: '))\n",
        "subject4=float(input('Enter marks of subject4: '))\n",
        "subject5=float(input('Enter marks of subject5: '))\n",
        "total_marks=subject1+subject2+subject3+subject4+subject5\n",
        "percentage=(total_marks/500)*100\n",
        "print(f'Total marks: {total_marks}')\n",
        "print(f'Percentage: {percentage}')\n",
        "if percentage>=90:\n",
        "  print(\"\"\"Grade:A\n",
        "           Result:Pass\"\"\")\n",
        "elif percentage>=80 and percentage<90:\n",
        "  print(\"\"\"Grade: B\n",
        "           Result:passed\"\"\")\n",
        "elif percentage>=70 and percentage<80:\n",
        "  print(\"\"\"Grade: C\n",
        "           Result: Passed\"\"\")\n",
        "elif percentage>=60 and percentage<70:\n",
        "  print(\"\"\"Grade: D\n",
        "           Result: Passed\"\"\")\n",
        "else:\n",
        "  print(\"\"\"Grade: F\n",
        "           Result: Failed\"\"\")"
      ],
      "metadata": {
        "colab": {
          "base_uri": "https://localhost:8080/"
        },
        "id": "vaAV-Doq5BZr",
        "outputId": "a022037f-d6c3-46e0-a95a-bddcffa94518"
      },
      "execution_count": null,
      "outputs": [
        {
          "output_type": "stream",
          "name": "stdout",
          "text": [
            "Enter marks of subject1: 99\n",
            "Enter marks of subject2: 94\n",
            "Enter marks of subject3: 95\n",
            "Enter marks of subject4: 93\n",
            "Enter marks of subject5: 90\n",
            "Total marks: 471.0\n",
            "Percentage: 94.19999999999999\n",
            "Grade:A\n",
            "           Result:Pass\n"
          ]
        }
      ]
    }
  ]
}
