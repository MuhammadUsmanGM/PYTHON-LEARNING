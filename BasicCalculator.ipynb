{
 "cells": [
  {
   "cell_type": "code",
   "execution_count": 1,
   "metadata": {},
   "outputs": [
    {
     "name": "stdout",
     "output_type": "stream",
     "text": [
      "5.0\n"
     ]
    }
   ],
   "source": [
    "def main():\n",
    "  num_1=float(input('enter 1st num: '))\n",
    "  num_2=float(input('entere 2nd num: '))\n",
    "  sign=input('enter sign e.g +,-,*,/: ')\n",
    "  if sign=='+':\n",
    "    print(num_1+num_2)\n",
    "  elif sign=='-':\n",
    "    print(num_1-num_2)\n",
    "  elif sign=='*':\n",
    "    print(num_1*num_2)\n",
    "  elif sign=='/':\n",
    "    print(num_1/num_2)\n",
    "  elif sign=='**':\n",
    "    print(num_1**num_2)\n",
    "  else:\n",
    "    print('Syntax error')\n",
    "if __name__=='__main__':\n",
    "  main()"
   ]
  }
 ],
 "metadata": {
  "kernelspec": {
   "display_name": "Python 3",
   "language": "python",
   "name": "python3"
  },
  "language_info": {
   "codemirror_mode": {
    "name": "ipython",
    "version": 3
   },
   "file_extension": ".py",
   "mimetype": "text/x-python",
   "name": "python",
   "nbconvert_exporter": "python",
   "pygments_lexer": "ipython3",
   "version": "3.13.1"
  }
 },
 "nbformat": 4,
 "nbformat_minor": 2
}
