{
 "cells": [
  {
   "cell_type": "code",
   "execution_count": 1,
   "metadata": {},
   "outputs": [
    {
     "name": "stdout",
     "output_type": "stream",
     "text": [
      "Think a number between 1 to 100\n",
      "Computer guessed your number correctly!\n"
     ]
    }
   ],
   "source": [
    "def comp_guess(x):\n",
    "   low=1\n",
    "   high=100\n",
    "   import random \n",
    "   print('Think a number between 1 to 100')\n",
    "   while True: \n",
    "    guess=random.randint(low,high) \n",
    "    user_input=input(f'Is {guess} too high(h),too low(l),or correct(c): ').lower() \n",
    "    if user_input=='h':\n",
    "       high=guess-1 \n",
    "    elif user_input=='l':\n",
    "       low=guess+1\n",
    "    elif user_input=='c': \n",
    "       print(f'Computer guessed your number correctly!') \n",
    "       break\n",
    "    else:\n",
    "      print(\"Invalid input.Please enter 'h','l' or 'c': \")\n",
    "if __name__=='__main__': \n",
    "   comp_guess(56)"
   ]
  }
 ],
 "metadata": {
  "kernelspec": {
   "display_name": "Python 3",
   "language": "python",
   "name": "python3"
  },
  "language_info": {
   "codemirror_mode": {
    "name": "ipython",
    "version": 3
   },
   "file_extension": ".py",
   "mimetype": "text/x-python",
   "name": "python",
   "nbconvert_exporter": "python",
   "pygments_lexer": "ipython3",
   "version": "3.13.1"
  }
 },
 "nbformat": 4,
 "nbformat_minor": 2
}
