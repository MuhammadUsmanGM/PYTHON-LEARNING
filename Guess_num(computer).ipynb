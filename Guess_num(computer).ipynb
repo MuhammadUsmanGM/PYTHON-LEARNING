{
 "cells": [
  {
   "cell_type": "code",
   "execution_count": 1,
   "metadata": {},
   "outputs": [
    {
     "name": "stdout",
     "output_type": "stream",
     "text": [
      "To high,Guess low\n",
      "To low,Guess higher\n",
      "Congrats,You guessed it,the num is 47\n"
     ]
    }
   ],
   "source": [
    "def rand_num():\n",
    "  import random\n",
    "  try:\n",
    "    number=random.randint(1,100)\n",
    "    while True:\n",
    "       guess=int(input('Guess a num between 1 to 100: '))\n",
    "       if guess<number:\n",
    "         print('To low,Guess higher')\n",
    "       elif guess>number:\n",
    "         print('To high,Guess low')\n",
    "       elif guess==number:\n",
    "         break\n",
    "    print(f'Congrats,You guessed it,the num is {number}')\n",
    "  except ValueError:\n",
    "    print('invalid literal for int() with base 10')\n",
    "  except Exception as e:\n",
    "    print(f'NO you got an error which is {e}')\n",
    "if __name__=='__main__':\n",
    "     rand_num()"
   ]
  }
 ],
 "metadata": {
  "kernelspec": {
   "display_name": "Python 3",
   "language": "python",
   "name": "python3"
  },
  "language_info": {
   "codemirror_mode": {
    "name": "ipython",
    "version": 3
   },
   "file_extension": ".py",
   "mimetype": "text/x-python",
   "name": "python",
   "nbconvert_exporter": "python",
   "pygments_lexer": "ipython3",
   "version": "3.13.1"
  }
 },
 "nbformat": 4,
 "nbformat_minor": 2
}
