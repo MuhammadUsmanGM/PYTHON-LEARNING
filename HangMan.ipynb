{
 "cells": [
  {
   "cell_type": "code",
   "execution_count": 2,
   "metadata": {},
   "outputs": [
    {
     "name": "stdout",
     "output_type": "stream",
     "text": [
      "You have 6lives. YOu have used these letters:  \n",
      "Current word:  _ _ _ _ _ _ _ _ _\n",
      "You have 5lives. YOu have used these letters:  Q\n",
      "Current word:  _ _ _ _ _ _ _ _ _\n",
      "You have 4lives. YOu have used these letters:  Q W\n",
      "Current word:  _ _ _ _ _ _ _ _ _\n",
      "You have 4lives. YOu have used these letters:  Q W E\n",
      "Current word:  _ _ _ _ _ _ _ E _\n",
      "You have 4lives. YOu have used these letters:  Q W E D\n",
      "Current word:  D _ _ _ _ _ _ E D\n",
      "You have 3lives. YOu have used these letters:  W C D Q E\n",
      "Current word:  D _ _ _ _ _ _ E D\n",
      "You have 3lives. YOu have used these letters:  I W C D Q E\n",
      "Current word:  D I _ _ _ _ _ E D\n",
      "You have already guessed that letter.Try Again\n",
      "You have 3lives. YOu have used these letters:  I W C D Q E\n",
      "Current word:  D I _ _ _ _ _ E D\n",
      "You have 3lives. YOu have used these letters:  I W C D Q S E\n",
      "Current word:  D I S _ _ S _ E D\n",
      "You have 2lives. YOu have used these letters:  I W C D Q S M E\n",
      "Current word:  D I S _ _ S _ E D\n",
      "You have 1lives. YOu have used these letters:  I W C D Q S M J E\n",
      "Current word:  D I S _ _ S _ E D\n",
      "You died,Sorry The word is DISGUSTED\n"
     ]
    }
   ],
   "source": [
    "import random\n",
    "from words import words\n",
    "def get_valid_word(words):\n",
    "  word=random.choice(words)\n",
    "  while '_' in word or ' ' in word:\n",
    "    word=random.choice(words)\n",
    "  return word.upper()\n",
    "def hangman():\n",
    "  word=get_valid_word(words)\n",
    "  word_letters=set(word)\n",
    "  alphabet=set(string.ascii_uppercase)\n",
    "  used_letters=set()\n",
    "  lives=6\n",
    "  while len(word_letters)>0 and lives>0:\n",
    "   print(f'You have {lives}lives. YOu have used these letters: ', ' '.join(used_letters))\n",
    "   word_list=[letter if letter in used_letters else '_' for letter in word]\n",
    "   print('Current word: ',' '.join(word_list))\n",
    "   user_letter=input('Guess a Letter: ').upper()\n",
    "   if user_letter in alphabet - used_letters:\n",
    "     used_letters.add(user_letter)\n",
    "     if user_letter in word_letters:\n",
    "       word_letters.remove(user_letter)\n",
    "     else:\n",
    "      lives=lives-1\n",
    "   elif user_letter in used_letters:\n",
    "     print('You have already guessed that letter.Try Again')\n",
    "   else:\n",
    "     print('Invalid character.Please Try Again!')\n",
    "  if lives==0:\n",
    "    print(f'You died,Sorry The word is {word}')\n",
    "  else:\n",
    "    print(f'You guessed it correctly. The word is {word}')\n",
    "if __name__=='__main__':\n",
    "    hangman()"
   ]
  }
 ],
 "metadata": {
  "kernelspec": {
   "display_name": "Python 3",
   "language": "python",
   "name": "python3"
  },
  "language_info": {
   "codemirror_mode": {
    "name": "ipython",
    "version": 3
   },
   "file_extension": ".py",
   "mimetype": "text/x-python",
   "name": "python",
   "nbconvert_exporter": "python",
   "pygments_lexer": "ipython3",
   "version": "3.13.1"
  }
 },
 "nbformat": 4,
 "nbformat_minor": 2
}
