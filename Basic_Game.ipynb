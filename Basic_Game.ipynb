{
 "cells": [
  {
   "cell_type": "code",
   "execution_count": 1,
   "metadata": {},
   "outputs": [
    {
     "name": "stdout",
     "output_type": "stream",
     "text": [
      "welcome to the game\n",
      "avaiable locations: forest,cave,river\n",
      "goodbye, your final inventory: []\n"
     ]
    }
   ],
   "source": [
    "def main():\n",
    " inventory:list=[]\n",
    " location:dict={\n",
    "    'forest':'you are in forest and hear strange noises.',\n",
    "    'cave':'you entered a cave and it\"s very cold in here',\n",
    "    'river':'water of river is very cold'\n",
    " }\n",
    " items:dict={\n",
    "       \"forest\": \"wooden stick\",\n",
    "    \"cave\": \"glowing crystal\",\n",
    "    \"river\": \"shiny stone\"\n",
    " }\n",
    " current_location='forest'\n",
    " playing=True\n",
    " print('welcome to the game')\n",
    " while playing:\n",
    "   print('avaiable locations:',\",\".join(location.keys()))\n",
    "   choice=input('where you want to go or type quit to exit').lower()\n",
    "   if choice=='quit':\n",
    "     playing=False\n",
    "     print('goodbye, your final inventory:',inventory)\n",
    "   elif choice=='inventory':\n",
    "     if inventory:\n",
    "       print('your inventory:',inventory)\n",
    "     else:\n",
    "         print('your inventory is empty')\n",
    "   elif choice in location:\n",
    "    current_location=choice\n",
    "    print(location[current_location])\n",
    "    if current_location in items:\n",
    "     item=items[current_location]\n",
    "     collect_choice=input(f'you found a {item}.do you want to collect it.yes/no').lower()\n",
    "     if collect_choice=='yes':\n",
    "       inventory.append(item)\n",
    "       print('your inventory:',inventory)\n",
    "   else:\n",
    "     print('invalid choice')\n",
    "if __name__=='__main__':\n",
    "  main()"
   ]
  }
 ],
 "metadata": {
  "kernelspec": {
   "display_name": "Python 3",
   "language": "python",
   "name": "python3"
  },
  "language_info": {
   "codemirror_mode": {
    "name": "ipython",
    "version": 3
   },
   "file_extension": ".py",
   "mimetype": "text/x-python",
   "name": "python",
   "nbconvert_exporter": "python",
   "pygments_lexer": "ipython3",
   "version": "3.13.1"
  }
 },
 "nbformat": 4,
 "nbformat_minor": 2
}
