{
 "cells": [
  {
   "cell_type": "code",
   "execution_count": 2,
   "metadata": {},
   "outputs": [
    {
     "name": "stdout",
     "output_type": "stream",
     "text": [
      "The tired he pass to the boy, where his lazy man\n",
      "    run and sleep near a bench, while a smooth man reads a book quietly.\n"
     ]
    }
   ],
   "source": [
    "def mad_lid():\n",
    "  try:\n",
    "    adj1:str=input('Enter an Adjective: ').lower()\n",
    "    adj2:str=input('Enter another Adjective: ').lower()\n",
    "    adj3:str=input('Enter another Adjective: ').lower()\n",
    "    verb1:str=input('Enter a verb: ').lower()\n",
    "    verb2:str=input('Enter another Verb: ').lower()\n",
    "    verb3:str=input('Enter another Verb: ').lower()\n",
    "    noun1:str=input('Enter a noun: ').lower()\n",
    "    noun2:str=input('Enter another noun: ').lower()\n",
    "    noun3:str=input('Enter another noun: ').lower()\n",
    "    madlid=f\"\"\"The {adj1} {noun1} {verb1} to the {noun2}, where his {adj2} {noun3}\n",
    "    {verb2} and {verb3} near a bench, while a {adj3} {noun3} reads a book quietly.\"\"\"\n",
    "    print(madlid)\n",
    "  except Exception as e:\n",
    "    print(f'Ooo you got a {e}')\n",
    "if __name__=='__main__':\n",
    "     mad_lid()"
   ]
  }
 ],
 "metadata": {
  "kernelspec": {
   "display_name": "Python 3",
   "language": "python",
   "name": "python3"
  },
  "language_info": {
   "codemirror_mode": {
    "name": "ipython",
    "version": 3
   },
   "file_extension": ".py",
   "mimetype": "text/x-python",
   "name": "python",
   "nbconvert_exporter": "python",
   "pygments_lexer": "ipython3",
   "version": "3.13.1"
  }
 },
 "nbformat": 4,
 "nbformat_minor": 2
}
