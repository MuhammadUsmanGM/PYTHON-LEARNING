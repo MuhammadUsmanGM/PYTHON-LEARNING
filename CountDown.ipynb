{
 "cells": [
  {
   "cell_type": "code",
   "execution_count": 1,
   "metadata": {},
   "outputs": [
    {
     "name": "stdout",
     "output_type": "stream",
     "text": [
      "Timer Completed\n"
     ]
    }
   ],
   "source": [
    "import time\n",
    "import os\n",
    "def countdown(t):\n",
    "  while t:\n",
    "    mins,secs= divmod(t, 60)\n",
    "    timer='{:02d}:{:02d}'.format(mins,secs)\n",
    "    print(f'\\r{timer}',end=' ')\n",
    "    time.sleep(1)\n",
    "    t -= 1\n",
    "  print('\\rTimer Completed')\n",
    "if __name__=='__main__':\n",
    "  while True:\n",
    "    try:\n",
    "      t=int(input('Enter time in sec: '))\n",
    "      break\n",
    "    except ValueError:\n",
    "      print('Invalid Input.Please enter a number.')\n",
    "  countdown(t)"
   ]
  }
 ],
 "metadata": {
  "kernelspec": {
   "display_name": "Python 3",
   "language": "python",
   "name": "python3"
  },
  "language_info": {
   "codemirror_mode": {
    "name": "ipython",
    "version": 3
   },
   "file_extension": ".py",
   "mimetype": "text/x-python",
   "name": "python",
   "nbconvert_exporter": "python",
   "pygments_lexer": "ipython3",
   "version": "3.13.1"
  }
 },
 "nbformat": 4,
 "nbformat_minor": 2
}
