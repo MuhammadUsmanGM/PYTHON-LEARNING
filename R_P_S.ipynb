{
 "cells": [
  {
   "cell_type": "code",
   "execution_count": 1,
   "metadata": {},
   "outputs": [
    {
     "name": "stdout",
     "output_type": "stream",
     "text": [
      "Computer choice:p\n",
      "You lost!\n",
      "P beats R\n",
      "Computer choice:s\n",
      "You lost!\n",
      "S beats P\n",
      "Computer choice:s\n",
      "You lost!\n",
      "S beats P\n",
      "Computer choice:s\n",
      "You lost!\n",
      "S beats P\n",
      "Computer choice:r\n",
      "You Won!\n",
      "P beats R\n",
      "Computer choice:p\n",
      "Tie\n",
      "Computer choice:s\n",
      "You Won!\n",
      "R beats S\n",
      "Computer choice:p\n",
      "You lost!\n",
      "P beats R\n",
      "Computer choice:r\n",
      "Tie\n",
      "Thanks\n",
      "Your score:2\n",
      "Computer score:5\n",
      "Computer won this round\n",
      "Hope you enjoyed it. Play Again!\n"
     ]
    }
   ],
   "source": [
    "import random\n",
    "def play():\n",
    "  user_score=0\n",
    "  computer_score=0\n",
    "  while True:\n",
    "   user=input(\"Enter 'r' for rock 'p' for paper 's' for sicissor or 'q' to quit: \").lower()\n",
    "   if user not in ['r','p','s','q']:\n",
    "    print(\"Invalid choice. Please enter 'p','r' or 's'.\")\n",
    "   computer=random.choice(['r','p','s'])\n",
    "   if user=='r' or user=='p' or user=='s':\n",
    "    print(f'Computer choice:{computer}')\n",
    "   elif user=='q':\n",
    "    print('Thanks')\n",
    "   if user==computer:\n",
    "     print('Tie')\n",
    "   elif (user=='r' and computer=='s') or (user=='s' and computer=='p') or (user=='p' and computer=='r'):\n",
    "     print('You Won!')\n",
    "     user_score+=1\n",
    "     print(f'{user.upper()} beats {computer.upper()}')\n",
    "   elif user=='q':\n",
    "    print(f'Your score:{user_score}')\n",
    "    print(f'Computer score:{computer_score}')\n",
    "    if user_score>computer_score:\n",
    "      print('You won it')\n",
    "    elif user_score<computer_score:\n",
    "      print('Computer won this round')\n",
    "    print('Hope you enjoyed it. Play Again!')\n",
    "    break\n",
    "   elif (computer=='r' and user=='s') or (computer=='s' and user=='p') or (computer=='p' and user=='r'):\n",
    "       print('You lost!')\n",
    "       print(f'{computer.upper()} beats {user.upper()}')\n",
    "       computer_score+=1\n",
    "if __name__=='__main__':\n",
    "      play()"
   ]
  }
 ],
 "metadata": {
  "kernelspec": {
   "display_name": "Python 3",
   "language": "python",
   "name": "python3"
  },
  "language_info": {
   "codemirror_mode": {
    "name": "ipython",
    "version": 3
   },
   "file_extension": ".py",
   "mimetype": "text/x-python",
   "name": "python",
   "nbconvert_exporter": "python",
   "pygments_lexer": "ipython3",
   "version": "3.13.1"
  }
 },
 "nbformat": 4,
 "nbformat_minor": 2
}
