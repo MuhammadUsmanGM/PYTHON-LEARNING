{
 "cells": [
  {
   "cell_type": "markdown",
   "metadata": {},
   "source": [
    "Python List Exercises"
   ]
  },
  {
   "cell_type": "markdown",
   "metadata": {},
   "source": [
    "Chapter 3:Lists in python"
   ]
  },
  {
   "cell_type": "markdown",
   "metadata": {},
   "source": [
    "Exercise 3-1:Names"
   ]
  },
  {
   "cell_type": "code",
   "execution_count": 168,
   "metadata": {},
   "outputs": [],
   "source": [
    "names:list=['Umar','Usman','Farhan','Farman','Qasim','Azan']\n",
    "#created a list using list func "
   ]
  },
  {
   "cell_type": "code",
   "execution_count": 169,
   "metadata": {},
   "outputs": [
    {
     "name": "stdout",
     "output_type": "stream",
     "text": [
      "Umar\n",
      "Usman\n",
      "Farhan\n",
      "Farman\n",
      "Qasim\n",
      "Azan\n"
     ]
    }
   ],
   "source": [
    "print(names[0])\n",
    "print(names[1])\n",
    "print(names[2])\n",
    "print(names[3])\n",
    "print(names[4])\n",
    "print(names[5])\n",
    "#printing each name from list by printing the index of every person in list"
   ]
  },
  {
   "cell_type": "markdown",
   "metadata": {},
   "source": [
    "Exercise 3-2:Greetings"
   ]
  },
  {
   "cell_type": "code",
   "execution_count": 170,
   "metadata": {},
   "outputs": [
    {
     "name": "stdout",
     "output_type": "stream",
     "text": [
      "Hello, Umar! How are you doing today?\n",
      "Hello, Usman! How are you doing today?\n",
      "Hello, Farhan! How are you doing today?\n",
      "Hello, Farman! How are you doing today?\n",
      "Hello, Qasim! How are you doing today?\n",
      "Hello, Azan! How are you doing today?\n"
     ]
    }
   ],
   "source": [
    "print(f\"Hello, {names[0]}! How are you doing today?\")\n",
    "print(f\"Hello, {names[1]}! How are you doing today?\")\n",
    "print(f\"Hello, {names[2]}! How are you doing today?\")\n",
    "print(f\"Hello, {names[3]}! How are you doing today?\")\n",
    "print(f\"Hello, {names[4]}! How are you doing today?\")\n",
    "print(f\"Hello, {names[5]}! How are you doing today?\")\n",
    "#printing greeting for each person in list"
   ]
  },
  {
   "cell_type": "markdown",
   "metadata": {},
   "source": [
    "Exercise 3-3:Your own list"
   ]
  },
  {
   "cell_type": "code",
   "execution_count": 171,
   "metadata": {},
   "outputs": [],
   "source": [
    "vehicles:list=['Honda Motorcycle','Nission gtr car','ford','BWM 18','Tesla model']"
   ]
  },
  {
   "cell_type": "code",
   "execution_count": 172,
   "metadata": {},
   "outputs": [
    {
     "name": "stdout",
     "output_type": "stream",
     "text": [
      "I really like to own aHonda Motorcycle.\n",
      "One of the fatest amazing car is Nission gtr car.\n",
      "ford is the best driving car.\n",
      "BWM 18) is the best to handle\n",
      "Is Tesla model the fatest car\n"
     ]
    }
   ],
   "source": [
    "print(f\"I really like to own a{vehicles[0]}.\")\n",
    "print(f\"One of the fatest amazing car is {vehicles[1]}.\")\n",
    "print(f\"{vehicles[2]} is the best driving car.\")\n",
    "print(f\"{vehicles[3]}) is the best to handle\")\n",
    "print(f\"Is {vehicles[4]} the fatest car\")\n",
    "#printing vaiables in different sentences\n",
    "\n",
    "\n"
   ]
  },
  {
   "cell_type": "markdown",
   "metadata": {},
   "source": [
    "Exercise 3-4:Guest List"
   ]
  },
  {
   "cell_type": "code",
   "execution_count": 173,
   "metadata": {},
   "outputs": [],
   "source": [
    "guests:list=['Albert','Issac','Nelson','William']"
   ]
  },
  {
   "cell_type": "code",
   "execution_count": 174,
   "metadata": {},
   "outputs": [
    {
     "name": "stdout",
     "output_type": "stream",
     "text": [
      "Dear Albert,\n",
      " YOU are invited to dinner in my home .\n",
      " I will be very happy if you would join.\n",
      " Your sincerely\n",
      " Usman\n",
      "Dear Issac,\n",
      " YOU are invited to dinner in my home .\n",
      " I will be very happy if you would join.\n",
      " Your sincerely\n",
      " Usman\n",
      "Dear Nelson,\n",
      " YOU are invited to dinner in my home .\n",
      " I will be very happy if you would join.\n",
      " Your sincerely\n",
      " Usman\n",
      "Dear William,\n",
      " YOU are invited to dinner in my home .\n",
      " I will be very happy if you would join.\n",
      " Your sincerely\n",
      " Usman\n"
     ]
    }
   ],
   "source": [
    "for guest in guests:\n",
    "    print(f\"Dear {guest},\\n YOU are invited to dinner in my home .\\n I will be very happy if you would join.\\n Your sincerely\\n Usman\")\n",
    "    #greeting each guest to invite to party"
   ]
  },
  {
   "cell_type": "markdown",
   "metadata": {},
   "source": [
    "Exercise 3-5:Changing Guest list"
   ]
  },
  {
   "cell_type": "code",
   "execution_count": 175,
   "metadata": {},
   "outputs": [
    {
     "name": "stdout",
     "output_type": "stream",
     "text": [
      "['Albert', 'Issac', 'Nelson', 'William']\n"
     ]
    }
   ],
   "source": [
    "print(guests)"
   ]
  },
  {
   "cell_type": "code",
   "execution_count": 176,
   "metadata": {},
   "outputs": [
    {
     "name": "stdout",
     "output_type": "stream",
     "text": [
      "Sorry to hear Issac that you cannot make it to dinner\n"
     ]
    }
   ],
   "source": [
    "print(f\"Sorry to hear {guests[1]} that you cannot make it to dinner\")"
   ]
  },
  {
   "cell_type": "code",
   "execution_count": 177,
   "metadata": {},
   "outputs": [
    {
     "name": "stdout",
     "output_type": "stream",
     "text": [
      "['Albert', 'Peter', 'Nelson', 'William']\n"
     ]
    }
   ],
   "source": [
    "guests[1]='Peter'\n",
    "print(guests)"
   ]
  },
  {
   "cell_type": "code",
   "execution_count": 178,
   "metadata": {},
   "outputs": [
    {
     "name": "stdout",
     "output_type": "stream",
     "text": [
      "hello Albert\n",
      "I will be very thankful if you will attend the dinner party tonight \n",
      " Your friend\n",
      " Usman\n",
      "hello Peter\n",
      "I will be very thankful if you will attend the dinner party tonight \n",
      " Your friend\n",
      " Usman\n",
      "hello Nelson\n",
      "I will be very thankful if you will attend the dinner party tonight \n",
      " Your friend\n",
      " Usman\n",
      "hello William\n",
      "I will be very thankful if you will attend the dinner party tonight \n",
      " Your friend\n",
      " Usman\n"
     ]
    }
   ],
   "source": [
    "for guest in guests:\n",
    "    print(f\"hello {guest}\\nI will be very thankful if you will attend the dinner party tonight \\n Your friend\\n Usman\")"
   ]
  },
  {
   "cell_type": "markdown",
   "metadata": {},
   "source": [
    "Exercise 3-6:More Guests"
   ]
  },
  {
   "cell_type": "code",
   "execution_count": 179,
   "metadata": {},
   "outputs": [
    {
     "name": "stdout",
     "output_type": "stream",
     "text": [
      "['Albert', 'Peter', 'Nelson', 'William']\n"
     ]
    }
   ],
   "source": [
    "print(guests)"
   ]
  },
  {
   "cell_type": "code",
   "execution_count": 180,
   "metadata": {},
   "outputs": [
    {
     "name": "stdout",
     "output_type": "stream",
     "text": [
      "Goodnews guys!I found a big table so we can invite more friends now\n"
     ]
    }
   ],
   "source": [
    "print(\"Goodnews guys!I found a big table so we can invite more friends now\")"
   ]
  },
  {
   "cell_type": "code",
   "execution_count": 181,
   "metadata": {},
   "outputs": [],
   "source": [
    "guests.insert(0, 'Alan')\n",
    "guests.insert(2, 'Marie')\n",
    "guests.append('Aurthor')\n",
    "#using .insert & ,append func to add elemnts in a list"
   ]
  },
  {
   "cell_type": "code",
   "execution_count": 182,
   "metadata": {},
   "outputs": [
    {
     "name": "stdout",
     "output_type": "stream",
     "text": [
      "['Alan', 'Albert', 'Marie', 'Peter', 'Nelson', 'William', 'Aurthor']\n"
     ]
    }
   ],
   "source": [
    "print(guests)"
   ]
  },
  {
   "cell_type": "code",
   "execution_count": 183,
   "metadata": {},
   "outputs": [
    {
     "name": "stdout",
     "output_type": "stream",
     "text": [
      "Dear Alan,\n",
      "You are invited to a dinner party tonight at my place.I will be very happy if you join the party.\n",
      "Your sincerly\n",
      "Muhammad Usman\n",
      "Dear Albert,\n",
      "You are invited to a dinner party tonight at my place.I will be very happy if you join the party.\n",
      "Your sincerly\n",
      "Muhammad Usman\n",
      "Dear Marie,\n",
      "You are invited to a dinner party tonight at my place.I will be very happy if you join the party.\n",
      "Your sincerly\n",
      "Muhammad Usman\n",
      "Dear Peter,\n",
      "You are invited to a dinner party tonight at my place.I will be very happy if you join the party.\n",
      "Your sincerly\n",
      "Muhammad Usman\n",
      "Dear Nelson,\n",
      "You are invited to a dinner party tonight at my place.I will be very happy if you join the party.\n",
      "Your sincerly\n",
      "Muhammad Usman\n",
      "Dear William,\n",
      "You are invited to a dinner party tonight at my place.I will be very happy if you join the party.\n",
      "Your sincerly\n",
      "Muhammad Usman\n",
      "Dear Aurthor,\n",
      "You are invited to a dinner party tonight at my place.I will be very happy if you join the party.\n",
      "Your sincerly\n",
      "Muhammad Usman\n"
     ]
    }
   ],
   "source": [
    "for guest in guests:\n",
    "    print(f\"Dear {guest},\\nYou are invited to a dinner party tonight at my place.I will be very happy if you join the party.\\nYour sincerly\\nMuhammad Usman\")\n",
    "    #writing a note to invite friends to a dinner party"
   ]
  },
  {
   "cell_type": "code",
   "execution_count": 184,
   "metadata": {},
   "outputs": [
    {
     "name": "stdout",
     "output_type": "stream",
     "text": [
      "['Alan', 'Albert', 'Marie', 'Peter', 'Nelson', 'William', 'Aurthor']\n"
     ]
    }
   ],
   "source": [
    "print(guests)"
   ]
  },
  {
   "cell_type": "code",
   "execution_count": 185,
   "metadata": {},
   "outputs": [],
   "source": [
    "removed_guest1=guests.pop(2)\n",
    "#removing an element from list"
   ]
  },
  {
   "cell_type": "code",
   "execution_count": 186,
   "metadata": {},
   "outputs": [
    {
     "name": "stdout",
     "output_type": "stream",
     "text": [
      "Unfortunately the new table is not arrived so I am not able to invite you, Marie\n",
      " I am really sorry for that\n"
     ]
    }
   ],
   "source": [
    "print(f\"Unfortunately the new table is not arrived so I am not able to invite you, {removed_guest1}\\n I am really sorry for that\")"
   ]
  },
  {
   "cell_type": "code",
   "execution_count": 187,
   "metadata": {},
   "outputs": [],
   "source": [
    "removed_guest2=guests.pop(-1)"
   ]
  },
  {
   "cell_type": "code",
   "execution_count": 188,
   "metadata": {},
   "outputs": [
    {
     "name": "stdout",
     "output_type": "stream",
     "text": [
      "Unfortunately the new table is not arrived so I am not able to invite you, Aurthor\n",
      " I am really sorry for that.\n",
      "your beloved\n",
      " Muhammad USman\n"
     ]
    }
   ],
   "source": [
    "print(f\"Unfortunately the new table is not arrived so I am not able to invite you, {removed_guest2}\\n I am really sorry for that.\\nyour beloved\\n Muhammad USman\")"
   ]
  },
  {
   "cell_type": "code",
   "execution_count": 189,
   "metadata": {},
   "outputs": [
    {
     "name": "stdout",
     "output_type": "stream",
     "text": [
      "['Alan', 'Albert', 'Peter', 'Nelson', 'William']\n"
     ]
    }
   ],
   "source": [
    "print(guests)"
   ]
  },
  {
   "cell_type": "code",
   "execution_count": 190,
   "metadata": {},
   "outputs": [
    {
     "name": "stdout",
     "output_type": "stream",
     "text": [
      "Dear Alan,\n",
      "you are still invited to dinner party at my place so please join me.\n",
      " your friend\n",
      " Muhammad USMAN\n",
      "Dear Albert,\n",
      "you are still invited to dinner party at my place so please join me.\n",
      " your friend\n",
      " Muhammad USMAN\n",
      "Dear Peter,\n",
      "you are still invited to dinner party at my place so please join me.\n",
      " your friend\n",
      " Muhammad USMAN\n",
      "Dear Nelson,\n",
      "you are still invited to dinner party at my place so please join me.\n",
      " your friend\n",
      " Muhammad USMAN\n",
      "Dear William,\n",
      "you are still invited to dinner party at my place so please join me.\n",
      " your friend\n",
      " Muhammad USMAN\n"
     ]
    }
   ],
   "source": [
    "for guest in guests:\n",
    "    print(f\"Dear {guest},\\nyou are still invited to dinner party at my place so please join me.\\n your friend\\n Muhammad USMAN\")"
   ]
  },
  {
   "cell_type": "code",
   "execution_count": 191,
   "metadata": {},
   "outputs": [],
   "source": [
    "del guests[:]\n",
    "#deleting a guest from list using del func"
   ]
  },
  {
   "cell_type": "code",
   "execution_count": 192,
   "metadata": {},
   "outputs": [
    {
     "name": "stdout",
     "output_type": "stream",
     "text": [
      "[]\n"
     ]
    }
   ],
   "source": [
    "print(guests)"
   ]
  },
  {
   "cell_type": "markdown",
   "metadata": {},
   "source": [
    "Exercise 3-8:Seeing the world"
   ]
  },
  {
   "cell_type": "code",
   "execution_count": 246,
   "metadata": {},
   "outputs": [
    {
     "name": "stdout",
     "output_type": "stream",
     "text": [
      "['Tokyo', 'Paris', 'New York', 'Shicago', 'China']\n"
     ]
    }
   ],
   "source": [
    "places=['Tokyo','Paris','New York','Shicago','China']\n",
    "#making a list of places i want to visit and than printing it\n",
    "print(places)"
   ]
  },
  {
   "cell_type": "code",
   "execution_count": 247,
   "metadata": {},
   "outputs": [
    {
     "name": "stdout",
     "output_type": "stream",
     "text": [
      "['China', 'New York', 'Paris', 'Shicago', 'Tokyo']\n"
     ]
    }
   ],
   "source": [
    "print(sorted(places))\n",
    "#using sorted() func to sort the list alphabetically"
   ]
  },
  {
   "cell_type": "code",
   "execution_count": 199,
   "metadata": {},
   "outputs": [
    {
     "name": "stdout",
     "output_type": "stream",
     "text": [
      "['Tokyo', 'Paris', 'New York', 'Shicago', 'China']\n"
     ]
    }
   ],
   "source": [
    "print(places)\n",
    "#checking if the original list remains unchanged"
   ]
  },
  {
   "cell_type": "code",
   "execution_count": 248,
   "metadata": {},
   "outputs": [
    {
     "name": "stdout",
     "output_type": "stream",
     "text": [
      "['Tokyo', 'Shicago', 'Paris', 'New York', 'China']\n"
     ]
    }
   ],
   "source": [
    "print(sorted(places, reverse=True))\n",
    "#using sorted func to sort list in reverse order"
   ]
  },
  {
   "cell_type": "code",
   "execution_count": 249,
   "metadata": {},
   "outputs": [
    {
     "name": "stdout",
     "output_type": "stream",
     "text": [
      "['Tokyo', 'Paris', 'New York', 'Shicago', 'China']\n"
     ]
    }
   ],
   "source": [
    "print(places)\n",
    "#checking if the original list remains unchanged"
   ]
  },
  {
   "cell_type": "code",
   "execution_count": 250,
   "metadata": {},
   "outputs": [
    {
     "name": "stdout",
     "output_type": "stream",
     "text": [
      "['China', 'Shicago', 'New York', 'Paris', 'Tokyo']\n"
     ]
    }
   ],
   "source": [
    "places.reverse()\n",
    "#using .reverse() func to reverse the order of alphabtes\n",
    "print(places)"
   ]
  },
  {
   "cell_type": "code",
   "execution_count": 251,
   "metadata": {},
   "outputs": [
    {
     "name": "stdout",
     "output_type": "stream",
     "text": [
      "['China', 'New York', 'Paris', 'Shicago', 'Tokyo']\n"
     ]
    }
   ],
   "source": [
    "places.sort()\n",
    "#using .sort() func to sort the list alphabetically\n",
    "print(places)"
   ]
  },
  {
   "cell_type": "code",
   "execution_count": 252,
   "metadata": {},
   "outputs": [
    {
     "name": "stdout",
     "output_type": "stream",
     "text": [
      "['Tokyo', 'Shicago', 'Paris', 'New York', 'China']\n"
     ]
    }
   ],
   "source": [
    "places.sort(reverse=True)\n",
    "#using sorted func to sort list in reverse order\n",
    "print(places)"
   ]
  },
  {
   "cell_type": "markdown",
   "metadata": {},
   "source": [
    "Dinner guests"
   ]
  },
  {
   "cell_type": "code",
   "execution_count": 243,
   "metadata": {},
   "outputs": [
    {
     "name": "stdout",
     "output_type": "stream",
     "text": [
      "I am inviting 7 guests in tonight's party\n"
     ]
    }
   ],
   "source": [
    "guests:list=['Albert','Issac','Qasim','Umar','Farman','Farhan','Azan']\n",
    "print(f\"I am inviting {len(guests)} guests in tonight's party\")\n",
    "#using .len func to find the lenght of guests in the list"
   ]
  },
  {
   "cell_type": "markdown",
   "metadata": {},
   "source": [
    "Exercise 3-10:Every function"
   ]
  },
  {
   "cell_type": "code",
   "execution_count": 236,
   "metadata": {},
   "outputs": [],
   "source": [
    "things:list=['ravi','k2','iran','iraq','canada','river','india','pakistan','english','urdu']"
   ]
  },
  {
   "cell_type": "code",
   "execution_count": 237,
   "metadata": {},
   "outputs": [
    {
     "name": "stdout",
     "output_type": "stream",
     "text": [
      "10\n",
      "ravi\n",
      "<built-in method count of list object at 0x00000129E9797C00>\n",
      "None\n",
      "None\n",
      "goat\n",
      "['banana', 'k2', 'iran', 'iraq', 'canada', 'river', 'india', 'pakistan', 'english', 'urdu']\n"
     ]
    }
   ],
   "source": [
    "print(len(things))\n",
    "print(things[0])\n",
    "print(things.count)\n",
    "print(things.remove('ravi'))\n",
    "print(things.append('goat'))\n",
    "print(things.pop())\n",
    "things.insert(0,'banana')\n",
    "print(things)\n",
    "#using all the func which we have used in chapter 3"
   ]
  },
  {
   "cell_type": "markdown",
   "metadata": {},
   "source": [
    "International Error"
   ]
  },
  {
   "cell_type": "code",
   "execution_count": 242,
   "metadata": {},
   "outputs": [],
   "source": [
    "num:list=[1,2,3,4,5,6,7]\n",
    "#created a list to get international error"
   ]
  },
  {
   "cell_type": "code",
   "execution_count": 241,
   "metadata": {},
   "outputs": [
    {
     "name": "stdout",
     "output_type": "stream",
     "text": [
      "7\n"
     ]
    },
    {
     "data": {
      "text/plain": [
       "7"
      ]
     },
     "execution_count": 241,
     "metadata": {},
     "output_type": "execute_result"
    }
   ],
   "source": [
    "print(num[-1])\n",
    "#we can find the legth using .len fun to avoid error\n",
    "len(num)\n",
    "#we can right the error after finding the lenght of list using .len func"
   ]
  }
 ],
 "metadata": {
  "kernelspec": {
   "display_name": "Python 3",
   "language": "python",
   "name": "python3"
  },
  "language_info": {
   "codemirror_mode": {
    "name": "ipython",
    "version": 3
   },
   "file_extension": ".py",
   "mimetype": "text/x-python",
   "name": "python",
   "nbconvert_exporter": "python",
   "pygments_lexer": "ipython3",
   "version": "3.13.1"
  }
 },
 "nbformat": 4,
 "nbformat_minor": 2
}
