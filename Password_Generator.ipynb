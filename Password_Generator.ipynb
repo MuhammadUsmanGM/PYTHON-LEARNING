{
 "cells": [
  {
   "cell_type": "code",
   "execution_count": 3,
   "metadata": {},
   "outputs": [
    {
     "name": "stdout",
     "output_type": "stream",
     "text": [
      "WElcome to Password Generator\n",
      "\n",
      "Here is your Password(s)\n",
      "cwV23Py\n",
      "0D.iz#w\n",
      ".zzRPj8\n",
      "HAI@Alg\n",
      "tvk?ds8\n",
      "u2#V3@,\n",
      "R9pY,B2\n",
      "Hope You got the Strong ones.😊\n"
     ]
    }
   ],
   "source": [
    "import random\n",
    "def pwd_generator():\n",
    "  try:\n",
    "    print('WElcome to Password Generator')\n",
    "    Character='abcdefghijklmnopqrstuvwxyzABCDEFGHIJKLMNOPQRSTUVWXYZ!@#$%^&*().,?0123456789'\n",
    "    number=input('Enter Number of Password you want to generate: ')\n",
    "    number=int(number)\n",
    "    lenght=input('Enter Lenght of your password(s): ')\n",
    "    lenght=int(lenght)\n",
    "    print('\\nHere is your Password(s)')\n",
    "    for pwd in range(number):\n",
    "      passwords=''\n",
    "      for c in range(lenght):\n",
    "        passwords += random.choice(Character)\n",
    "      print(passwords)\n",
    "    print('Hope You got the Strong ones.😊')\n",
    "  except Exception as e:\n",
    "    print(f'You got an error which is {e}')\n",
    "if __name__=='__main__':\n",
    "    pwd_generator()"
   ]
  }
 ],
 "metadata": {
  "kernelspec": {
   "display_name": "Python 3",
   "language": "python",
   "name": "python3"
  },
  "language_info": {
   "codemirror_mode": {
    "name": "ipython",
    "version": 3
   },
   "file_extension": ".py",
   "mimetype": "text/x-python",
   "name": "python",
   "nbconvert_exporter": "python",
   "pygments_lexer": "ipython3",
   "version": "3.13.1"
  }
 },
 "nbformat": 4,
 "nbformat_minor": 2
}
