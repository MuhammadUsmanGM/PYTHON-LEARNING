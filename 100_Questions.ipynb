{
  "cells": [
    {
      "cell_type": "markdown",
      "metadata": {
        "id": "H8-3rtEgPBiJ"
      },
      "source": [
        "**Muhammad Usman**    \n",
        "**PIAIC253607**"
      ]
    },
    {
      "cell_type": "markdown",
      "metadata": {
        "id": "ZwJCA7WFzjhJ"
      },
      "source": [
        "**Question 1**:To find all such number which are divisible by 7 but not multiple of 5 from 2000 to 3200"
      ]
    },
    {
      "cell_type": "code",
      "execution_count": null,
      "metadata": {
        "colab": {
          "base_uri": "https://localhost:8080/"
        },
        "id": "tX-00y7Bzgmr",
        "outputId": "34c95fc0-b96f-48af-dd87-a98a9e40966d"
      },
      "outputs": [
        {
          "name": "stdout",
          "output_type": "stream",
          "text": [
            "2002,2009,2016,2023,2037,2044,2051,2058,2072,2079,2086,2093,2107,2114,2121,2128,2142,2149,2156,2163,2177,2184,2191,2198,2212,2219,2226,2233,2247,2254,2261,2268,2282,2289,2296,2303,2317,2324,2331,2338,2352,2359,2366,2373,2387,2394,2401,2408,2422,2429,2436,2443,2457,2464,2471,2478,2492,2499,2506,2513,2527,2534,2541,2548,2562,2569,2576,2583,2597,2604,2611,2618,2632,2639,2646,2653,2667,2674,2681,2688,2702,2709,2716,2723,2737,2744,2751,2758,2772,2779,2786,2793,2807,2814,2821,2828,2842,2849,2856,2863,2877,2884,2891,2898,2912,2919,2926,2933,2947,2954,2961,2968,2982,2989,2996,3003,3017,3024,3031,3038,3052,3059,3066,3073,3087,3094,3101,3108,3122,3129,3136,3143,3157,3164,3171,3178,3192,3199,"
          ]
        }
      ],
      "source": [
        "def num():\n",
        "\n",
        "  for i in range(2000,3201):\n",
        "\n",
        "    \"\"\"To find all such number which are divisible by 7\n",
        "     but not multiple of 5 from 2000 to 3200\"\"\"\n",
        "\n",
        "    if i%7==0 and i%5!=0:\n",
        "      print(i,end=',')\n",
        "\n",
        "if __name__ == '__main__':\n",
        "  num()"
      ]
    },
    {
      "cell_type": "markdown",
      "metadata": {
        "id": "iWbN3RpL1OGd"
      },
      "source": [
        "**Question2:** To find the factorial of an input number"
      ]
    },
    {
      "cell_type": "code",
      "execution_count": null,
      "metadata": {
        "colab": {
          "base_uri": "https://localhost:8080/"
        },
        "id": "6uxGJrXp1hgR",
        "outputId": "dcbae373-4c50-4344-f193-3c020e4c7303"
      },
      "outputs": [
        {
          "name": "stdout",
          "output_type": "stream",
          "text": [
            "Enter a Number: 8\n",
            "Factorial of 8 are :40320\n"
          ]
        }
      ],
      "source": [
        "import math\n",
        "\n",
        "'''To find the factorial of an input number'''\n",
        "\n",
        "def factorial():\n",
        "   user_input=input('Enter a Number: ')\n",
        "   try:\n",
        "    user_input=int((user_input))\n",
        "    factorial=math.factorial(user_input)\n",
        "    print(f'Factorial of {user_input} are :{factorial}')\n",
        "   except ValueError:\n",
        "    print(f'Invalid Input.Please enter an integer.')\n",
        "if __name__=='__main__':\n",
        "    factorial()"
      ]
    },
    {
      "cell_type": "markdown",
      "metadata": {
        "id": "cT_XeEPqEKIZ"
      },
      "source": [
        "**Question3:**To Create a Dictionary that contains (i,i*I)"
      ]
    },
    {
      "cell_type": "code",
      "execution_count": null,
      "metadata": {
        "colab": {
          "base_uri": "https://localhost:8080/"
        },
        "id": "xO2dH01TEJku",
        "outputId": "62f61ba3-80b4-4189-b818-ad720c99add0"
      },
      "outputs": [
        {
          "name": "stdout",
          "output_type": "stream",
          "text": [
            "Enter Number of keys of Dictionary: 8\n",
            "{1: 1, 2: 4, 3: 9, 4: 16, 5: 25, 6: 36, 7: 49, 8: 64}\n"
          ]
        }
      ],
      "source": [
        "def integral():\n",
        "\n",
        "  '''To Create a Dictionary that contains (i,i*I)'''\n",
        "\n",
        "  user_input=input('Enter Number of keys of Dictionary: ')\n",
        "  try:\n",
        "    user_input=int(user_input)\n",
        "    dictionary={}\n",
        "    for i in range(1,user_input+1):\n",
        "      dictionary[i]=i*i\n",
        "    print(dictionary)\n",
        "  except ValueError:\n",
        "    print('Invalid Input.Please enter an integer.')\n",
        "if __name__=='__main__':\n",
        "  integral()"
      ]
    },
    {
      "cell_type": "markdown",
      "metadata": {
        "id": "7XZrkBIdGBxJ"
      },
      "source": [
        "**Question4:**To generate a list and a tuple."
      ]
    },
    {
      "cell_type": "code",
      "execution_count": null,
      "metadata": {
        "colab": {
          "base_uri": "https://localhost:8080/"
        },
        "id": "AwsQebQ5GZQk",
        "outputId": "819601c3-af33-42b9-8614-bb3dff7df3c6"
      },
      "outputs": [
        {
          "name": "stdout",
          "output_type": "stream",
          "text": [
            "Enter comma-sepparated numbers: 12,23,34,45,56,67,78,89,90,\n",
            "['12', '23', '34', '45', '56', '67', '78', '89', '90', '']\n",
            "('12', '23', '34', '45', '56', '67', '78', '89', '90', '')\n"
          ]
        }
      ],
      "source": [
        "def list_tuple():\n",
        "\n",
        "  '''To generate a list and a tuple.'''\n",
        "\n",
        "  user_input=input('Enter comma-sepparated numbers: ')\n",
        "  numbers=user_input.split(',')\n",
        "  print(list(numbers))\n",
        "  print(tuple(numbers))\n",
        "if __name__=='__main__':\n",
        "  list_tuple()"
      ]
    },
    {
      "cell_type": "markdown",
      "metadata": {
        "id": "ff2uUsckHtGp"
      },
      "source": [
        "**Question5:**To Define a class"
      ]
    },
    {
      "cell_type": "code",
      "execution_count": null,
      "metadata": {
        "colab": {
          "base_uri": "https://localhost:8080/"
        },
        "id": "Fo2yxgADH9kz",
        "outputId": "8b3aaa85-bc4f-487b-c061-0843f261e6b0"
      },
      "outputs": [
        {
          "name": "stdout",
          "output_type": "stream",
          "text": [
            "23\n",
            "23\n"
          ]
        }
      ],
      "source": [
        "'''Definig a Class'''\n",
        "class String():\n",
        "\n",
        "  def __iniit__(self):\n",
        "    self.s=\"\"\n",
        "\n",
        "  def getstring(self):\n",
        "    self.s=input()\n",
        "\n",
        "  def printstring(self):\n",
        "    print(self.s.upper())\n",
        "\n",
        "def test():\n",
        "  obj=String()\n",
        "  obj.getstring()\n",
        "  obj.printstring()\n",
        "test()"
      ]
    },
    {
      "cell_type": "markdown",
      "metadata": {
        "id": "M0FQKQxzeQhM"
      },
      "source": [
        "**Question6:**To find the value of Q"
      ]
    },
    {
      "cell_type": "code",
      "execution_count": null,
      "metadata": {
        "colab": {
          "base_uri": "https://localhost:8080/"
        },
        "id": "50XWU8ADedeX",
        "outputId": "8005880b-8a06-4d18-cce7-f0608e9ae496"
      },
      "outputs": [
        {
          "name": "stdout",
          "output_type": "stream",
          "text": [
            "Enter comma-separated value of D: 100,150,180\n",
            "Values for Q:[18, 22, 24]\n"
          ]
        }
      ],
      "source": [
        "import math\n",
        "\n",
        "'''To find the value of Q'''\n",
        "\n",
        "def calculate_Q():\n",
        "  C=50\n",
        "  H=30\n",
        "  Q_list=[]\n",
        "\n",
        "  try:\n",
        "    D=input('Enter comma-separated value of D: ')\n",
        "    D=D.split(',')\n",
        "\n",
        "    for D_value in D:\n",
        "      Q=math.sqrt((2 * C * int(D_value))/H)\n",
        "      Q=int(Q)\n",
        "      Q_list.append(Q)\n",
        "\n",
        "    print(f'Values for Q:{Q_list}')\n",
        "\n",
        "  except ValueError:\n",
        "    print('Invalid Input.Please enter comma-separated value of D.')\n",
        "\n",
        "if __name__=='__main__':\n",
        "    calculate_Q()"
      ]
    },
    {
      "cell_type": "markdown",
      "metadata": {
        "id": "pkaNVKIVmTBg"
      },
      "source": [
        "**Question7:**To Generate a Two-Dimensional Array"
      ]
    },
    {
      "cell_type": "code",
      "execution_count": null,
      "metadata": {
        "colab": {
          "base_uri": "https://localhost:8080/"
        },
        "id": "BAdfE284mnj-",
        "outputId": "98408d99-83e2-4cf8-c965-67ea9de15f15"
      },
      "outputs": [
        {
          "name": "stdout",
          "output_type": "stream",
          "text": [
            "Enter two comma-separated numbers: 2,3\n",
            "[[0, 0, 0], [0, 1, 2]]\n"
          ]
        }
      ],
      "source": [
        "def array():\n",
        "\n",
        "  '''To Generate a Two-Dimensional Array'''\n",
        "\n",
        "  user_input=input('Enter two comma-separated numbers: ')\n",
        "  X,Y=user_input.split(',')\n",
        "\n",
        "  try:\n",
        "    X=int(X)\n",
        "    Y=int(Y)\n",
        "    array=[]\n",
        "    for i in range(X):\n",
        "      array.append([])\n",
        "      for j in range(Y):\n",
        "        array[i].append(i*j)\n",
        "    print(array)\n",
        "\n",
        "  except ValueError:\n",
        "    print('Invalid Input.Please enter two comma-separated numbers.')\n",
        "\n",
        "if __name__=='__main__':\n",
        "  array()"
      ]
    },
    {
      "cell_type": "markdown",
      "metadata": {
        "id": "cWgRceRSptIh"
      },
      "source": [
        "**Question8:**To sort the words alphabetically"
      ]
    },
    {
      "cell_type": "code",
      "execution_count": null,
      "metadata": {
        "colab": {
          "base_uri": "https://localhost:8080/"
        },
        "id": "nulleiIAp1bS",
        "outputId": "0544e8e8-9d44-4f2b-8dd4-4b60f03355a4"
      },
      "outputs": [
        {
          "name": "stdout",
          "output_type": "stream",
          "text": [
            "Enter comma-separated words: without,hello,bag,world\n",
            "['bag', 'hello', 'without', 'world']\n"
          ]
        }
      ],
      "source": [
        "def sort_words():\n",
        "\n",
        "  '''To sort the words alphabetically'''\n",
        "\n",
        "  user_input=input('Enter comma-separated words: ')\n",
        "  words=user_input.split(',')\n",
        "  words.sort()\n",
        "  print(words)\n",
        "\n",
        "if __name__=='__main__':\n",
        "  sort_words()"
      ]
    },
    {
      "cell_type": "markdown",
      "metadata": {
        "id": "Jy1vdaaXqz8E"
      },
      "source": [
        "**Question9:**To captilize an input sentence"
      ]
    },
    {
      "cell_type": "code",
      "execution_count": null,
      "metadata": {
        "colab": {
          "base_uri": "https://localhost:8080/"
        },
        "id": "qFBH-si5q9q5",
        "outputId": "9506a54f-a732-4ebc-f0f6-7c9a38da17ae"
      },
      "outputs": [
        {
          "name": "stdout",
          "output_type": "stream",
          "text": [
            "Enter a Sentence: a very healthy man running on the road.\n",
            "A VERY HEALTHY MAN RUNNING ON THE ROAD.\n"
          ]
        }
      ],
      "source": [
        "def capitilize():\n",
        "\n",
        "  '''To captilize an input sentence'''\n",
        "\n",
        "  user_input=input('Enter a Sentence: ')\n",
        "  user_input=user_input.upper()\n",
        "  print(user_input)\n",
        "\n",
        "if __name__=='__main__':\n",
        "  capitilize()"
      ]
    },
    {
      "cell_type": "markdown",
      "metadata": {
        "id": "d9zNFEjwsNII"
      },
      "source": [
        "**Question10:**To remove duplicate words and sort the words"
      ]
    },
    {
      "cell_type": "code",
      "execution_count": null,
      "metadata": {
        "colab": {
          "base_uri": "https://localhost:8080/"
        },
        "id": "JNK59XkRsaQ9",
        "outputId": "39ca2986-0c60-4ec7-8543-c21b7b6ecc50"
      },
      "outputs": [
        {
          "name": "stdout",
          "output_type": "stream",
          "text": [
            "Enter whitespace separated words: hello world and practice makes perfect and hello world again\n",
            "again and hello makes perfect practice world\n"
          ]
        }
      ],
      "source": [
        "def remove_duplicate():\n",
        "\n",
        "  '''To remove duplicate words and sort the words'''\n",
        "\n",
        "  user_input=input('Enter whitespace separated words: ')\n",
        "  words=user_input.split(' ')\n",
        "  words=list(set(words))\n",
        "  words.sort()\n",
        "  print(' '.join(words))\n",
        "\n",
        "if __name__=='__main__':\n",
        "  remove_duplicate()"
      ]
    },
    {
      "cell_type": "markdown",
      "metadata": {
        "id": "onSN_IbGuLDv"
      },
      "source": [
        "**Question11:**To check the binary numbers if they are divided by 5"
      ]
    },
    {
      "cell_type": "code",
      "execution_count": null,
      "metadata": {
        "colab": {
          "base_uri": "https://localhost:8080/"
        },
        "id": "JaLKgn1quneC",
        "outputId": "357f8426-bfb0-4d1c-f404-1d2d9d637e6c"
      },
      "outputs": [
        {
          "name": "stdout",
          "output_type": "stream",
          "text": [
            "Enter comma-separated 4-digit binary numbers: 0100,0011,1010,1001\n",
            "1010\n"
          ]
        }
      ],
      "source": [
        "def binary_number():\n",
        "\n",
        "  '''To check the binary numbers if they are divided by 5'''\n",
        "\n",
        "  try:\n",
        "    user_input=input('Enter comma-separated 4-digit binary numbers: ')\n",
        "    numbers=user_input.split(',')\n",
        "    for number in numbers:\n",
        "      if int(number,2)%5==0:\n",
        "        print(number)\n",
        "\n",
        "  except ValueError:\n",
        "    print('Invalid Input.Please enter comma-separated 4-digit binary numbers.')\n",
        "\n",
        "if __name__=='__main__':\n",
        "  binary_number()"
      ]
    },
    {
      "cell_type": "markdown",
      "metadata": {
        "id": "n73dW-rBvXux"
      },
      "source": [
        "**Question12:**To find numbers between 1000 & 3000 so that each digit is even number."
      ]
    },
    {
      "cell_type": "code",
      "execution_count": null,
      "metadata": {
        "colab": {
          "base_uri": "https://localhost:8080/"
        },
        "id": "vQVB82Ervydm",
        "outputId": "78693db1-0aeb-4c13-e238-24888795d94e"
      },
      "outputs": [
        {
          "name": "stdout",
          "output_type": "stream",
          "text": [
            "2000,2002,2004,2006,2008,2020,2022,2024,2026,2028,2040,2042,2044,2046,2048,2060,2062,2064,2066,2068,2080,2082,2084,2086,2088,2200,2202,2204,2206,2208,2220,2222,2224,2226,2228,2240,2242,2244,2246,2248,2260,2262,2264,2266,2268,2280,2282,2284,2286,2288,2400,2402,2404,2406,2408,2420,2422,2424,2426,2428,2440,2442,2444,2446,2448,2460,2462,2464,2466,2468,2480,2482,2484,2486,2488,2600,2602,2604,2606,2608,2620,2622,2624,2626,2628,2640,2642,2644,2646,2648,2660,2662,2664,2666,2668,2680,2682,2684,2686,2688,2800,2802,2804,2806,2808,2820,2822,2824,2826,2828,2840,2842,2844,2846,2848,2860,2862,2864,2866,2868,2880,2882,2884,2886,2888,"
          ]
        }
      ],
      "source": [
        "def even_number():\n",
        "\n",
        "  '''To find numbers between 1000 & 3000 so that each digit is even number.'''\n",
        "\n",
        "  for i in range(1000,3001):\n",
        "   i=str(i)\n",
        "   if int(i[0])%2==0 and int(i[1])%2==0 and int(i[2])%2==0 and int(i[3])%2==0:\n",
        "     print(i,end=',')\n",
        "\n",
        "if __name__=='__main__':\n",
        "     even_number()"
      ]
    },
    {
      "cell_type": "markdown",
      "metadata": {
        "id": "eA4YZh-fxJEn"
      },
      "source": [
        "**Question13:**To calculate words and digits from sentence"
      ]
    },
    {
      "cell_type": "code",
      "execution_count": null,
      "metadata": {
        "colab": {
          "base_uri": "https://localhost:8080/"
        },
        "id": "xKFLqELoxa4v",
        "outputId": "ca978814-7f40-4a8c-f64b-cbbef4e3439b"
      },
      "outputs": [
        {
          "name": "stdout",
          "output_type": "stream",
          "text": [
            "Enter a Sentence: hello there are 37 people out of which 27are men\n",
            "LETTERS:35\n",
            "DIGITS:4\n"
          ]
        }
      ],
      "source": [
        "def calculate():\n",
        "\n",
        "  '''To calculate words and digits from sentence'''\n",
        "\n",
        "  user_input=input('Enter a Sentence: ')\n",
        "  words=0\n",
        "  digits=0\n",
        "  try:\n",
        "    if user_input:\n",
        "      for i in user_input:\n",
        "        if i.isalpha():\n",
        "          words+=1\n",
        "        elif i.isdigit():\n",
        "          digits+=1\n",
        "\n",
        "  except ValueError:\n",
        "    print('Invalid Input.Please enter a Sentence.')\n",
        "\n",
        "  finally:\n",
        "      print(f'LETTERS:{words}')\n",
        "      print(f'DIGITS:{digits}')\n",
        "\n",
        "if __name__=='__main__':\n",
        "     calculate()"
      ]
    },
    {
      "cell_type": "markdown",
      "metadata": {
        "id": "bK1mOeehybfE"
      },
      "source": [
        "**Question14:**To calculate uppercase and lowercase from sentences"
      ]
    },
    {
      "cell_type": "code",
      "execution_count": null,
      "metadata": {
        "colab": {
          "base_uri": "https://localhost:8080/"
        },
        "id": "P7psq9vsyruP",
        "outputId": "ef232e60-a8f2-4c62-a2bf-2878f21a98a1"
      },
      "outputs": [
        {
          "name": "stdout",
          "output_type": "stream",
          "text": [
            "Enter a Sentence: Hello MY Name is Usman\n",
            "UPPER CASE:5\n",
            "LOWER CASE:13\n"
          ]
        }
      ],
      "source": [
        "def upper_lower():\n",
        "\n",
        "  '''To calculate uppercase and lowercase from sentences'''\n",
        "\n",
        "  user_input=input('Enter a Sentence: ')\n",
        "  upper=0\n",
        "  lower=0\n",
        "  try:\n",
        "    if user_input:\n",
        "      for i in user_input:\n",
        "        if i.isupper():\n",
        "          upper+=1\n",
        "        elif i.islower():\n",
        "          lower+=1\n",
        "\n",
        "  except ValueError:\n",
        "    print('Invalid Input.Please enter a Sentence.')\n",
        "\n",
        "  finally:\n",
        "      print(f'UPPER CASE:{upper}')\n",
        "      print(f'LOWER CASE:{lower}')\n",
        "if __name__=='__main__':\n",
        "    upper_lower()"
      ]
    },
    {
      "cell_type": "markdown",
      "metadata": {
        "id": "d3RcAihfz6tk"
      },
      "source": [
        "**Question15:**TO compute the value of a+aa+aaa+aaaa with an input number(a)."
      ]
    },
    {
      "cell_type": "code",
      "execution_count": null,
      "metadata": {
        "colab": {
          "base_uri": "https://localhost:8080/"
        },
        "id": "QxCaKpwG0LSa",
        "outputId": "ba124eff-691e-41c5-b023-8e0afee37a82"
      },
      "outputs": [
        {
          "name": "stdout",
          "output_type": "stream",
          "text": [
            "Enter a Number: 9\n",
            "Result:11106\n"
          ]
        }
      ],
      "source": [
        "def aa():\n",
        "\n",
        "  '''TO compute the value of a+aa+aaa+aaaa with an input number(a).'''\n",
        "  try:\n",
        "    a=int(input('Enter a Number: '))\n",
        "    result=a+(a*11)+(a*111)+(a*1111)\n",
        "  except ValueError:\n",
        "    print('Invalid Input.Please enter a Number.')\n",
        "  finally:\n",
        "    print(f'Result:{result}')\n",
        "\n",
        "if __name__=='__main__':\n",
        "    aa()"
      ]
    },
    {
      "cell_type": "markdown",
      "metadata": {
        "id": "pzYb3_iPGJ2J"
      },
      "source": [
        "**Question16:**To get odd numbers in a list from input"
      ]
    },
    {
      "cell_type": "code",
      "execution_count": null,
      "metadata": {
        "colab": {
          "base_uri": "https://localhost:8080/"
        },
        "id": "blVAzGZxGWQ8",
        "outputId": "ae31e271-60da-4a0d-f38c-3e4aff0d8a97"
      },
      "outputs": [
        {
          "name": "stdout",
          "output_type": "stream",
          "text": [
            "Enter comma-separated numbers: 1,2,3,4,5,6,7,8,9\n",
            "['1', '3', '5', '7', '9']\n"
          ]
        }
      ],
      "source": [
        "def odd():\n",
        "\n",
        "  '''To get odd numbers in a list from input'''\n",
        "\n",
        "  user_input=input('Enter comma-separated numbers: ')\n",
        "  numbers=user_input.split(',')\n",
        "  odd_numbers=[]\n",
        "  try:\n",
        "    for number in numbers:\n",
        "      if int(number)%2!=0:\n",
        "        odd_numbers.append(number)\n",
        "    print(odd_numbers)\n",
        "\n",
        "  except ValueError:\n",
        "    print('Invalid Input.Please enter comma-separated numbers.')\n",
        "\n",
        "if __name__=='__main__':\n",
        "    odd()"
      ]
    },
    {
      "cell_type": "markdown",
      "metadata": {
        "id": "76yvpFevHy-r"
      },
      "source": [
        "**Question17:**To compute the net amount of a bank account."
      ]
    },
    {
      "cell_type": "code",
      "execution_count": null,
      "metadata": {
        "colab": {
          "base_uri": "https://localhost:8080/"
        },
        "id": "x06tY3MnHw0s",
        "outputId": "ae7bb89f-f45e-439f-a66d-658c516dff5a"
      },
      "outputs": [
        {
          "name": "stdout",
          "output_type": "stream",
          "text": [
            "Enter Transaction(D/W amount or q to quit): 10000\n",
            "Invalid Input.Please enter D for Deposit and W for Withdraw.\n",
            "Enter Transaction(D/W amount or q to quit): D 10000\n",
            "Enter Transaction(D/W amount or q to quit): W 4987\n",
            "Enter Transaction(D/W amount or q to quit): D 5000\n",
            "Enter Transaction(D/W amount or q to quit): W 4367\n",
            "Enter Transaction(D/W amount or q to quit): q\n",
            "Net Amount of your Account:5646\n"
          ]
        }
      ],
      "source": [
        "def net_amount():\n",
        "\n",
        "  '''To compute the net amount of a bank account.'''\n",
        "\n",
        "  net_amount=0\n",
        "  while True:\n",
        "      transaction=input('Enter Transaction(D/W amount or q to quit): ')\n",
        "      if transaction.lower()=='q':\n",
        "        break\n",
        "      try:\n",
        "        transaction_type,amount=transaction.split(' ')\n",
        "        if transaction_type.upper()=='D':\n",
        "          net_amount+=int(amount)\n",
        "        elif transaction_type.upper()=='W':\n",
        "          net_amount-=int(amount)\n",
        "        else:\n",
        "          print('Invalid Input.Please enter D for Deposit and W for Withdraw.')\n",
        "      except ValueError:\n",
        "        print('Invalid Input.Please enter D for Deposit and W for Withdraw.')\n",
        "  print(f'Net Amount of your Account:{net_amount}')\n",
        "\n",
        "if __name__=='__main__':\n",
        "    net_amount()"
      ]
    },
    {
      "cell_type": "markdown",
      "metadata": {
        "id": "VZUGAfjoOeZD"
      },
      "source": [
        "**Question18:**To check the Validity of password."
      ]
    },
    {
      "cell_type": "code",
      "execution_count": null,
      "metadata": {
        "colab": {
          "base_uri": "https://localhost:8080/"
        },
        "id": "7ypdIWs0OmoK",
        "outputId": "4659e2fd-8cec-45cc-df7c-8e1241a3e1b5"
      },
      "outputs": [
        {
          "name": "stdout",
          "output_type": "stream",
          "text": [
            "Enter password: ASmj193@#\n",
            "Valid Password.You can use it.\n"
          ]
        }
      ],
      "source": [
        "import re\n",
        "def is_valid_password(password):\n",
        "\n",
        "  '''To check the validity of password'''\n",
        "\n",
        "  if not (6 <= len(password) <= 12):\n",
        "    return False\n",
        "  if not re.search(\"[a-z]\", password):\n",
        "    return False\n",
        "  if not re.search(\"[A-Z]\", password):\n",
        "    return False\n",
        "  if not re.search(\"[0-9]\", password):\n",
        "    return False\n",
        "  if not re.search(\"[$#@]\", password):\n",
        "    return False\n",
        "\n",
        "  return True\n",
        "if __name__ == \"__main__\":\n",
        "    password = input(\"Enter password: \")\n",
        "\n",
        "    if is_valid_password(password):\n",
        "        print(\"Valid Password.You can use it.\")\n",
        "    else:\n",
        "        print(\"Invalid Password. Use another one.\")"
      ]
    },
    {
      "cell_type": "markdown",
      "metadata": {
        "id": "GhnzL1IpWtYX"
      },
      "source": [
        "**Question9:**To sort tuple based on name ,height and age."
      ]
    },
    {
      "cell_type": "code",
      "execution_count": null,
      "metadata": {
        "colab": {
          "base_uri": "https://localhost:8080/"
        },
        "id": "A8vrgB2GB1mY",
        "outputId": "55a62bab-ae02-4ec7-c5f0-04cc31c47043"
      },
      "outputs": [
        {
          "name": "stdout",
          "output_type": "stream",
          "text": [
            "Enter a tuple (name, age, height) or 'q' to quit: zain,19,54,ali,12,32,william,23,85\n",
            "Invalid input format. Please enter values as 'name, age, height'.\n",
            "Enter a tuple (name, age, height) or 'q' to quit: Tom,19,80 John,20,90 Jony,17,91 Jony,17,93 Json,21,85\n",
            "Invalid input format. Please enter values as 'name, age, height'.\n",
            "Enter a tuple (name, age, height) or 'q' to quit: Tom,19,80 \n",
            "Enter a tuple (name, age, height) or 'q' to quit: John,20,90 \n",
            "Enter a tuple (name, age, height) or 'q' to quit: Jony,17,93\n",
            "Enter a tuple (name, age, height) or 'q' to quit: Jony,17,93\n",
            "Enter a tuple (name, age, height) or 'q' to quit: Json,21,85\n",
            "Enter a tuple (name, age, height) or 'q' to quit: q\n",
            "[('John', '20', '90 '), ('Jony', '17', '93'), ('Jony', '17', '93'), ('Json', '21', '85'), ('Tom', '19', '80 ')]\n"
          ]
        }
      ],
      "source": [
        "from operator import itemgetter\n",
        "\n",
        "def sort_tuples(tuples_list):\n",
        "    \"\"\"To sort tuple based on name ,height and age.\"\"\"\n",
        "\n",
        "    sorted_tuples = sorted(tuples_list, key=itemgetter(0, 1, 2))\n",
        "    return sorted_tuples\n",
        "\n",
        "if __name__ == \"__main__\":\n",
        "\n",
        "    input_tuples = []\n",
        "    while True:\n",
        "        user_input = input(\"Enter a tuple (name, age, height) or 'q' to quit: \")\n",
        "        if user_input.lower() == 'q':\n",
        "            break\n",
        "        try:\n",
        "            name, age, height = user_input.split(',')\n",
        "            input_tuples.append((name, age, height))\n",
        "        except ValueError:\n",
        "            print(\"Invalid input format. Please enter values as 'name, age, height'.\")\n",
        "\n",
        "    sorted_result = sort_tuples(input_tuples)\n",
        "\n",
        "    print(sorted_result)"
      ]
    },
    {
      "cell_type": "markdown",
      "metadata": {
        "id": "po4VxHfYX_bT"
      },
      "source": [
        "**Question20:**To get divisible of 7 in range 0 to n by defining a class"
      ]
    },
    {
      "cell_type": "code",
      "execution_count": null,
      "metadata": {
        "colab": {
          "base_uri": "https://localhost:8080/"
        },
        "id": "DHRypI5dYPzI",
        "outputId": "d0be9b4e-7ee6-4943-bcfe-b54634c3c941"
      },
      "outputs": [
        {
          "name": "stdout",
          "output_type": "stream",
          "text": [
            "0\n",
            "7\n",
            "14\n",
            "21\n",
            "28\n",
            "35\n",
            "42\n",
            "49\n",
            "56\n",
            "63\n",
            "70\n",
            "77\n",
            "84\n",
            "91\n",
            "98\n"
          ]
        }
      ],
      "source": [
        "class DivisibleBySeven:\n",
        "\n",
        "  '''To get divisible of 7 in range 0 to n by defining a class'''\n",
        "\n",
        "  def __init__(self, n):\n",
        "        self.n = n\n",
        "\n",
        "  def generate_numbers(self):\n",
        "        for i in range(self.n + 1):\n",
        "            if i % 7 == 0:\n",
        "                yield i\n",
        "\n",
        "divisible_by_seven = DivisibleBySeven(100)\n",
        "for number in divisible_by_seven.generate_numbers():\n",
        "    print(number)"
      ]
    },
    {
      "cell_type": "markdown",
      "metadata": {
        "id": "VwRTpq80DaEP"
      },
      "source": [
        "**Question21:**To compute the distance from current position"
      ]
    },
    {
      "cell_type": "code",
      "execution_count": null,
      "metadata": {
        "colab": {
          "base_uri": "https://localhost:8080/"
        },
        "id": "CHpxa2bCLUmV",
        "outputId": "b19a6865-426f-4594-8092-cfdd23d25c3c"
      },
      "outputs": [
        {
          "name": "stdout",
          "output_type": "stream",
          "text": [
            "Enter movement (direction, steps) or 'q' to quit: UP,4\n",
            "Enter movement (direction, steps) or 'q' to quit: UP,1\n",
            "Enter movement (direction, steps) or 'q' to quit: DOWN,3\n",
            "Enter movement (direction, steps) or 'q' to quit: LEFT,3\n",
            "Enter movement (direction, steps) or 'q' to quit: RIGHT,2\n",
            "Enter movement (direction, steps) or 'q' to quit: q\n",
            "Distance from origin: 2\n"
          ]
        }
      ],
      "source": [
        "import math\n",
        "\n",
        "def calculate_distance(movements):\n",
        "  \"\"\"To compute the distance from current position\"\"\"\n",
        "\n",
        "  x, y = 0, 0\n",
        "\n",
        "  for direction, steps in movements:\n",
        "    if direction == \"UP\":\n",
        "      y += int(steps)\n",
        "    elif direction == \"DOWN\":\n",
        "      y -= int(steps)\n",
        "    elif direction == \"LEFT\":\n",
        "      x -= int(steps)\n",
        "    elif direction == \"RIGHT\":\n",
        "      x += int(steps)\n",
        "    else:\n",
        "      print(f\"Invalid direction: {direction}\")\n",
        "\n",
        "  distance = math.sqrt(x**2 + y**2)\n",
        "  return round(distance)\n",
        "\n",
        "if __name__ == \"__main__\":\n",
        "  movements = []\n",
        "  while True:\n",
        "    user_input = input(\"Enter movement (direction, steps) or 'q' to quit: \")\n",
        "    if user_input.lower() == 'q':\n",
        "      break\n",
        "    try:\n",
        "      direction, steps = user_input.split(',')\n",
        "      movements.append((direction.strip().upper(), steps.strip()))\n",
        "    except ValueError:\n",
        "      print(\"Invalid input. Please enter as 'direction, steps'.\")\n",
        "\n",
        "  distance = calculate_distance(movements)\n",
        "  print(\"Distance from origin:\", distance)"
      ]
    },
    {
      "cell_type": "markdown",
      "metadata": {
        "id": "rh0hMhPBMkOI"
      },
      "source": [
        "**Question22:**To compute frequency of words from input."
      ]
    },
    {
      "cell_type": "code",
      "execution_count": null,
      "metadata": {
        "colab": {
          "base_uri": "https://localhost:8080/"
        },
        "id": "JoBv3RqwMu6_",
        "outputId": "50fdb38c-f6b5-4e3e-93dc-85182e245275"
      },
      "outputs": [
        {
          "name": "stdout",
          "output_type": "stream",
          "text": [
            "Enter a Sentence: a very little boy came from city to live in the woods the boy lives in city before\n",
            "a:1 before:1 boy:2 came:1 city:2 from:1 in:2 little:1 live:1 lives:1 the:2 to:1 very:1 woods:1 "
          ]
        }
      ],
      "source": [
        "def word_freq():\n",
        "  \"\"\"To compute frequency of words from input.\"\"\"\n",
        "\n",
        "  user_input=input('Enter a Sentence: ')\n",
        "  words=user_input.split(' ')\n",
        "  word_freq={}\n",
        "  for word in words:\n",
        "    if word in word_freq:\n",
        "      word_freq[word]+=1\n",
        "    else:\n",
        "      word_freq[word]=1\n",
        "  sorted_word=dict(sorted(word_freq.items()))\n",
        "  for word,freq in sorted_word.items():\n",
        "    print(f'{word}:{freq}',end=' ')\n",
        "if __name__=='__main__':\n",
        "  word_freq()"
      ]
    },
    {
      "cell_type": "markdown",
      "metadata": {
        "id": "Ipd2W1MINwIB"
      },
      "source": [
        "**Question23:**To calculate square value of number."
      ]
    },
    {
      "cell_type": "code",
      "execution_count": null,
      "metadata": {
        "colab": {
          "base_uri": "https://localhost:8080/"
        },
        "id": "vI-ZmyqVN9wl",
        "outputId": "c6228f64-5149-427a-be88-9caa79632edb"
      },
      "outputs": [
        {
          "name": "stdout",
          "output_type": "stream",
          "text": [
            "Enter a Number: 25\n",
            "Square of 25 is 625\n"
          ]
        }
      ],
      "source": [
        "def square():\n",
        "  \"\"\"To calculate square value of a number\"\"\"\n",
        "  user_input=input('Enter a Number: ')\n",
        "  try:\n",
        "    user_input=int(user_input)\n",
        "    square=user_input**2\n",
        "  except ValueError:\n",
        "    print('Invalid Input.Please enter a Number')\n",
        "  finally:\n",
        "    print(f'Square of {user_input} is {square}')\n",
        "if __name__=='__main__':\n",
        "  square()"
      ]
    },
    {
      "cell_type": "markdown",
      "metadata": {
        "id": "j-Y4Sr-MPEoR"
      },
      "source": [
        "**Question24:**To print some python in-built functions"
      ]
    },
    {
      "cell_type": "code",
      "execution_count": null,
      "metadata": {
        "colab": {
          "base_uri": "https://localhost:8080/"
        },
        "id": "JpQObeEWPPGE",
        "outputId": "d0edf9f4-3bf0-4152-b178-4fa32a1159b6"
      },
      "outputs": [
        {
          "name": "stdout",
          "output_type": "stream",
          "text": [
            "Return the absolute value of the argument.\n",
            "Return True if bool(x) is True for all values x in the iterable.\n",
            "\n",
            "If the iterable is empty, return True.\n",
            "Return True if bool(x) is True for any x in the iterable.\n",
            "\n",
            "If the iterable is empty, return False.\n",
            "Return an ASCII-only representation of an object.\n",
            "\n",
            "As repr(), return a string containing a printable representation of an\n",
            "object, but escape the non-ASCII characters in the string returned by\n",
            "repr() using \\\\x, \\\\u or \\\\U escapes. This generates a string similar\n",
            "to that returned by repr() in Python 2.\n",
            "Return the binary representation of an integer.\n",
            "\n",
            "   >>> bin(2796202)\n",
            "   '0b1010101010101010101010'\n",
            "bool(x) -> bool\n",
            "\n",
            "Returns True when the argument x is true, False otherwise.\n",
            "The builtins True and False are the only two instances of the class bool.\n",
            "The class bool is a subclass of the class int, and cannot be subclassed.\n",
            "bytearray(iterable_of_ints) -> bytearray\n",
            "bytearray(string, encoding[, errors]) -> bytearray\n",
            "bytearray(bytes_or_buffer) -> mutable copy of bytes_or_buffer\n",
            "bytearray(int) -> bytes array of size given by the parameter initialized with null bytes\n",
            "bytearray() -> empty bytes array\n",
            "\n",
            "Construct a mutable bytearray object from:\n",
            "  - an iterable yielding integers in range(256)\n",
            "  - a text string encoded using the specified encoding\n",
            "  - a bytes or a buffer object\n",
            "  - any object implementing the buffer API.\n",
            "  - an integer\n",
            "bytes(iterable_of_ints) -> bytes\n",
            "bytes(string, encoding[, errors]) -> bytes\n",
            "bytes(bytes_or_buffer) -> immutable copy of bytes_or_buffer\n",
            "bytes(int) -> bytes object of size given by the parameter initialized with null bytes\n",
            "bytes() -> empty bytes object\n",
            "\n",
            "Construct an immutable array of bytes from:\n",
            "  - an iterable yielding integers in range(256)\n",
            "  - a text string encoded using the specified encoding\n",
            "  - any object implementing the buffer API.\n",
            "  - an integer\n",
            "Return whether the object is callable (i.e., some kind of function).\n",
            "\n",
            "Note that classes are callable, as are instances of classes with a\n",
            "__call__() method.\n",
            "Return a Unicode string of one character with ordinal i; 0 <= i <= 0x10ffff.\n",
            "Compile source into a code object that can be executed by exec() or eval().\n",
            "\n",
            "The source code may represent a Python module, statement or expression.\n",
            "The filename will be used for run-time error messages.\n",
            "The mode must be 'exec' to compile a module, 'single' to compile a\n",
            "single (interactive) statement, or 'eval' to compile an expression.\n",
            "The flags argument, if present, controls which future statements influence\n",
            "the compilation of the code.\n",
            "The dont_inherit argument, if true, stops the compilation inheriting\n",
            "the effects of any future statements in effect in the code calling\n",
            "compile; if absent or false these statements do influence the compilation,\n",
            "in addition to any features explicitly specified.\n",
            "Forward raw_input to frontends\n",
            "\n",
            "        Raises\n",
            "        ------\n",
            "        StdinNotImplementedError if active frontend doesn't support stdin.\n",
            "        \n",
            "int([x]) -> integer\n",
            "int(x, base=10) -> integer\n",
            "\n",
            "Convert a number or string to an integer, or return 0 if no arguments\n",
            "are given.  If x is a number, return x.__int__().  For floating point\n",
            "numbers, this truncates towards zero.\n",
            "\n",
            "If x is not a number or if base is given, then x must be a string,\n",
            "bytes, or bytearray instance representing an integer literal in the\n",
            "given base.  The literal can be preceded by '+' or '-' and be surrounded\n",
            "by whitespace.  The base defaults to 10.  Valid bases are 0 and 2-36.\n",
            "Base 0 means to interpret the base from the string as an integer literal.\n",
            ">>> int('0b100', base=0)\n",
            "4\n",
            "Built-in mutable sequence.\n",
            "\n",
            "If no argument is given, the constructor creates a new empty list.\n",
            "The argument must be an iterable if specified.\n",
            "To print a custom in-built pyhton func\n",
            "Hello from my_function\n"
          ]
        }
      ],
      "source": [
        "print(abs.__doc__)\n",
        "print(all.__doc__)\n",
        "print(any.__doc__)\n",
        "print(ascii.__doc__)\n",
        "print(bin.__doc__)\n",
        "print(bool.__doc__)\n",
        "print(bytearray.__doc__)\n",
        "print(bytes.__doc__)\n",
        "print(callable.__doc__)\n",
        "print(chr.__doc__)\n",
        "print(compile.__doc__)\n",
        "print(input.__doc__)\n",
        "print(int.__doc__)\n",
        "print(list.__doc__)\n",
        "\n",
        "def my_func():\n",
        "  '''To print a custom in-built pyhton func'''\n",
        "  print('Hello from my_function')\n",
        "print(my_func.__doc__)\n",
        "if __name__=='__main__':\n",
        "    my_func()"
      ]
    },
    {
      "cell_type": "markdown",
      "metadata": {
        "id": "W16xYK3dQoUe"
      },
      "source": [
        "**Question25:**Defining a Class,class parameter and same instance parameter."
      ]
    },
    {
      "cell_type": "code",
      "execution_count": null,
      "metadata": {
        "colab": {
          "base_uri": "https://localhost:8080/"
        },
        "id": "19_sEoH_ROV3",
        "outputId": "70b35f98-89c4-4661-cc50-e644f063392a"
      },
      "outputs": [
        {
          "name": "stdout",
          "output_type": "stream",
          "text": [
            "I am a class parameter\n",
            "Default Value\n",
            "I am an instance parameter\n",
            "I am a class parameter\n"
          ]
        }
      ],
      "source": [
        "class My_class():\n",
        "  class_parameter='I am a class parameter'\n",
        "  def __init__(self,instance_parameter='Default Value'):\n",
        "    self.instance_parameter=instance_parameter\n",
        "\n",
        "obj1=My_class()\n",
        "print(My_class.class_parameter)\n",
        "print(obj1.instance_parameter)\n",
        "obj1.instance_parameter='I am an instance parameter'\n",
        "print(obj1.instance_parameter)\n",
        "print(My_class.class_parameter)"
      ]
    },
    {
      "cell_type": "markdown",
      "metadata": {
        "id": "kHfHUrDAWVbp"
      },
      "source": [
        "**Question26:**To get the sum of two input numbers."
      ]
    },
    {
      "cell_type": "code",
      "execution_count": null,
      "metadata": {
        "colab": {
          "base_uri": "https://localhost:8080/"
        },
        "id": "8K6Ri0H-Wdad",
        "outputId": "430b805f-65ec-4da4-dd8f-360b3bacc43d"
      },
      "outputs": [
        {
          "name": "stdout",
          "output_type": "stream",
          "text": [
            "Enter 1st Number: 56.4\n",
            "Enter 2nd NUmber: 44\n",
            "Sum of 56.4 and 44.0 = 100\n"
          ]
        }
      ],
      "source": [
        "def sum():\n",
        "\n",
        "  \"\"\"To get sum of two input Numbers\"\"\"\n",
        "  try:\n",
        "    num_1=float(input('Enter 1st Number: '))\n",
        "    num_2=float(input('Enter 2nd NUmber: '))\n",
        "    sum=num_1+num_2\n",
        "  except Exception as e:\n",
        "    print(f'The Error you got is {e}.')\n",
        "  finally:\n",
        "    print(f'Sum of {num_1} and {num_2} = {round(sum)}')\n",
        "if __name__=='__main__':\n",
        "    sum()"
      ]
    },
    {
      "cell_type": "markdown",
      "metadata": {
        "id": "hdK93YBeYBsC"
      },
      "source": [
        "**Question27:**Function to convert integer to string."
      ]
    },
    {
      "cell_type": "code",
      "execution_count": null,
      "metadata": {
        "colab": {
          "base_uri": "https://localhost:8080/"
        },
        "id": "JO3NCR76YlJU",
        "outputId": "8b6c7b9b-f5cc-4cab-fae8-d78a8fa3ac68"
      },
      "outputs": [
        {
          "name": "stdout",
          "output_type": "stream",
          "text": [
            "Enter an integer: 34\n",
            "<class 'str'> : 34\n"
          ]
        }
      ],
      "source": [
        "def int_to_str():\n",
        "\n",
        "  \"\"\"Function to convert integer to string.\"\"\"\n",
        "\n",
        "  user_input=int(input('Enter an integer: '))\n",
        "  user_input=str(user_input)\n",
        "  print(type(user_input),':',(user_input))\n",
        "\n",
        "if __name__=='__main__':\n",
        "    int_to_str()"
      ]
    },
    {
      "cell_type": "markdown",
      "metadata": {
        "id": "6JHq0_G-ZQ-Y"
      },
      "source": [
        "**Question28:**:Function to convert integer to string."
      ]
    },
    {
      "cell_type": "code",
      "execution_count": null,
      "metadata": {
        "colab": {
          "base_uri": "https://localhost:8080/"
        },
        "id": "4bJuVVA0aRV3",
        "outputId": "bc511286-7875-4dcc-9ff3-14855c82d3dc"
      },
      "outputs": [
        {
          "name": "stdout",
          "output_type": "stream",
          "text": [
            "Enter an integer: 67\n",
            "<class 'str'> : 67\n"
          ]
        }
      ],
      "source": [
        "def int_to_str():\n",
        "\n",
        "  \"\"\"Function to convert integer to string.\"\"\"\n",
        "\n",
        "  user_input=int(input('Enter an integer: '))\n",
        "  user_input=str(user_input)\n",
        "  print(type(user_input),':',(user_input))\n",
        "\n",
        "if __name__=='__main__':\n",
        "    int_to_str()"
      ]
    },
    {
      "cell_type": "markdown",
      "metadata": {
        "id": "gh49u5JCark7"
      },
      "source": [
        "**Question29:**To compute sum of two integral in string"
      ]
    },
    {
      "cell_type": "code",
      "execution_count": null,
      "metadata": {
        "colab": {
          "base_uri": "https://localhost:8080/"
        },
        "id": "gnqBgI7NbGiy",
        "outputId": "719e1e24-9768-4985-9d4e-76852c8cb401"
      },
      "outputs": [
        {
          "name": "stdout",
          "output_type": "stream",
          "text": [
            "Enter two integral numbers separated by comma: 45,54\n",
            "99\n"
          ]
        }
      ],
      "source": [
        "def sum_integral():\n",
        "\n",
        "  \"\"\"To compute sum of two integral in string\"\"\"\n",
        "\n",
        "  user_input=input('Enter two integral numbers separated by comma: ')\n",
        "  user_input=user_input.split(',')\n",
        "  sum=int(user_input[0])+int(user_input[1])\n",
        "  print(sum)\n",
        "\n",
        "if __name__=='__main__':\n",
        "    sum_integral()"
      ]
    },
    {
      "cell_type": "markdown",
      "metadata": {
        "id": "JqvGt5VCb2x3"
      },
      "source": [
        "**Question30:**To aceept two strings as input and concatenate them."
      ]
    },
    {
      "cell_type": "code",
      "execution_count": null,
      "metadata": {
        "colab": {
          "base_uri": "https://localhost:8080/"
        },
        "id": "BBr2Tz7OcEcR",
        "outputId": "b4b99be1-5c2b-4c76-856e-3aac4e57a273"
      },
      "outputs": [
        {
          "name": "stdout",
          "output_type": "stream",
          "text": [
            "Enter two strings separated by comma: hello,world,i,m,learning,python\n",
            "Hello World I M Learning Python\n"
          ]
        }
      ],
      "source": [
        "def concatenate():\n",
        "\n",
        "  \"\"\"To aceept two strings as input and concatenate them.\"\"\"\n",
        "\n",
        "  user_input=input('Enter two strings separated by comma: ')\n",
        "  user_input=user_input.split(',')\n",
        "  concatenated_str=\" \".join(user_input)\n",
        "  print(concatenated_str.title())\n",
        "\n",
        "if __name__=='__main__':\n",
        "    concatenate()"
      ]
    },
    {
      "cell_type": "markdown",
      "metadata": {
        "id": "ovubhd7BhN8g"
      },
      "source": [
        "**Question31:**To get string with greater lenght"
      ]
    },
    {
      "cell_type": "code",
      "execution_count": null,
      "metadata": {
        "colab": {
          "base_uri": "https://localhost:8080/"
        },
        "id": "YZd-AExmhZ4s",
        "outputId": "6d99c846-5c48-4608-e7b3-060957d5e4b9"
      },
      "outputs": [
        {
          "name": "stdout",
          "output_type": "stream",
          "text": [
            "Enter two strings separated by comma: hello world,i m learning python\n",
            "I M Learning Python\n"
          ]
        }
      ],
      "source": [
        "def len_str():\n",
        "\n",
        "  \"\"\"To get the String with greater lenght\"\"\"\n",
        "\n",
        "  user_input=input('Enter two strings separated by comma: ')\n",
        "  user_input=user_input.split(',')\n",
        "  if len(user_input[0])>len(user_input[1]):\n",
        "    print((user_input[0]).title())\n",
        "  elif len(user_input[0])<len(user_input[1]):\n",
        "    print((user_input[1]).title())\n",
        "  else:\n",
        "    print('Both Strings are of equal length.')\n",
        "    print((user_input[0]).title())\n",
        "    print((user_input[1]).title())\n",
        "\n",
        "if __name__=='__main__':\n",
        "    len_str()"
      ]
    },
    {
      "cell_type": "markdown",
      "metadata": {
        "id": "j1enxJ4NjKVd"
      },
      "source": [
        "**Question32:**To check the given number is even or odd"
      ]
    },
    {
      "cell_type": "code",
      "execution_count": null,
      "metadata": {
        "colab": {
          "base_uri": "https://localhost:8080/"
        },
        "id": "WFVECMvZjSHC",
        "outputId": "6f44178c-2538-4843-c460-cd5c5b467746"
      },
      "outputs": [
        {
          "name": "stdout",
          "output_type": "stream",
          "text": [
            "Enter a Number: 76\n",
            "76 is Even Number.\n",
            "Thank You\n"
          ]
        }
      ],
      "source": [
        "def even_odd():\n",
        "\n",
        "  \"\"\"To check the given number is even or odd\"\"\"\n",
        "\n",
        "  try:\n",
        "    user_input=int(input('Enter a Number: '))\n",
        "    if user_input%2==0:\n",
        "      print(f'{user_input} is Even Number.')\n",
        "    elif user_input%2!=0:\n",
        "      print(f'{user_input} is Odd Number.')\n",
        "  except:\n",
        "    print('Invalid Input.Please enter a Number.')\n",
        "  finally:\n",
        "    print('Thank You')\n",
        "\n",
        "if __name__=='__main__':\n",
        "    even_odd()"
      ]
    },
    {
      "cell_type": "markdown",
      "metadata": {
        "id": "0YKUN50xka7q"
      },
      "source": [
        "**Question33:**To get a dictionary keys are 1 to 3 numbers and values are square of numbers."
      ]
    },
    {
      "cell_type": "code",
      "execution_count": null,
      "metadata": {
        "colab": {
          "base_uri": "https://localhost:8080/"
        },
        "id": "rphlTe9gk9zg",
        "outputId": "569a6f74-6d96-4aae-b030-54624569d55a"
      },
      "outputs": [
        {
          "name": "stdout",
          "output_type": "stream",
          "text": [
            "{1: 1, 2: 4, 3: 9}\n",
            "Thank You\n"
          ]
        }
      ],
      "source": [
        "def dict_square():\n",
        "\n",
        "  \"\"\"To get a dictionary keys are 1 to 3 numbers and values are square of numbers.\"\"\"\n",
        "\n",
        "  square_dict={}\n",
        "  try:\n",
        "    for i in range(1,4):\n",
        "      square_dict[i]=i**2\n",
        "    print(square_dict)\n",
        "  except Exception as e:\n",
        "    print(f'The Error you got is {e}.')\n",
        "  finally:\n",
        "    print('Thank You')\n",
        "\n",
        "if __name__=='__main__':\n",
        "    dict_square()"
      ]
    },
    {
      "cell_type": "markdown",
      "metadata": {
        "id": "0LxdoiVNlrD6"
      },
      "source": [
        "Question34:To get a dictionary keys are 1 to 20 numbers and values are square of numbers."
      ]
    },
    {
      "cell_type": "code",
      "execution_count": null,
      "metadata": {
        "colab": {
          "base_uri": "https://localhost:8080/"
        },
        "id": "JjrPkrTPlu1g",
        "outputId": "fe9001dc-c461-4c61-9de1-8a03c59575cf"
      },
      "outputs": [
        {
          "name": "stdout",
          "output_type": "stream",
          "text": [
            "{1: 1, 2: 4, 3: 9, 4: 16, 5: 25, 6: 36, 7: 49, 8: 64, 9: 81, 10: 100, 11: 121, 12: 144, 13: 169, 14: 196, 15: 225, 16: 256, 17: 289, 18: 324, 19: 361, 20: 400}\n",
            "Thank You\n"
          ]
        }
      ],
      "source": [
        "def dict_square():\n",
        "\n",
        "  \"\"\"To get a dictionary keys are 1 to 20 numbers and values are square of numbers.\"\"\"\n",
        "\n",
        "  square_dict={}\n",
        "  try:\n",
        "    for i in range(1,21):\n",
        "      square_dict[i]=i**2\n",
        "    print(square_dict)\n",
        "  except Exception as e:\n",
        "    print(f'The Error you got is {e}.')\n",
        "  finally:\n",
        "    print('Thank You')\n",
        "\n",
        "if __name__=='__main__':\n",
        "    dict_square()"
      ]
    },
    {
      "cell_type": "markdown",
      "metadata": {
        "id": "XMK8KgpymWXu"
      },
      "source": [
        "**Question35:**To generate dictionary with keys 1 to 20 and values with square of keys & print values only."
      ]
    },
    {
      "cell_type": "code",
      "execution_count": null,
      "metadata": {
        "colab": {
          "base_uri": "https://localhost:8080/"
        },
        "id": "eI8iqyK4mmiW",
        "outputId": "7eed0024-5e34-4351-da95-35ef8d5179f8"
      },
      "outputs": [
        {
          "name": "stdout",
          "output_type": "stream",
          "text": [
            "[1, 4, 9, 16, 25, 36, 49, 64, 81, 100, 121, 144, 169, 196, 225, 256, 289, 324, 361, 400]\n",
            "Thank You\n"
          ]
        }
      ],
      "source": [
        "def print_sq_value():\n",
        "  \"\"\"To generate dictionary with keys 1 to 20 and values with square of keys &\n",
        "   print values only.\"\"\"\n",
        "\n",
        "  square_dict={}\n",
        "  try:\n",
        "    for i in range(1,21):\n",
        "      square_dict[i]=i**2\n",
        "    print(list(square_dict.values()))\n",
        "  except Exception as e:\n",
        "    print(f'The Error you got is {e}.')\n",
        "  finally:\n",
        "    print('Thank You')\n",
        "\n",
        "if __name__=='__main__':\n",
        "    print_sq_value()"
      ]
    },
    {
      "cell_type": "markdown",
      "metadata": {
        "id": "retdKByUnP6F"
      },
      "source": [
        "Question36:To generate dictionary with keys 1 to 20 and values with square of keys & print keys only."
      ]
    },
    {
      "cell_type": "code",
      "execution_count": null,
      "metadata": {
        "colab": {
          "base_uri": "https://localhost:8080/"
        },
        "id": "tJmTyT_9nTxR",
        "outputId": "d9def633-1af2-48e3-856b-dcf57964708f"
      },
      "outputs": [
        {
          "name": "stdout",
          "output_type": "stream",
          "text": [
            "[1, 2, 3, 4, 5, 6, 7, 8, 9, 10, 11, 12, 13, 14, 15, 16, 17, 18, 19, 20]\n",
            "Thank You\n"
          ]
        }
      ],
      "source": [
        "def print_sq_value():\n",
        "  \"\"\"To generate dictionary with keys 1 to 20 and values with square of keys &\n",
        "   print keys only.\"\"\"\n",
        "\n",
        "  square_dict={}\n",
        "  try:\n",
        "    for i in range(1,21):\n",
        "      square_dict[i]=i**2\n",
        "    print(list(square_dict.keys()))\n",
        "  except Exception as e:\n",
        "    print(f'The Error you got is {e}.')\n",
        "  finally:\n",
        "    print('Thank You')\n",
        "\n",
        "if __name__=='__main__':\n",
        "    print_sq_value()"
      ]
    },
    {
      "cell_type": "markdown",
      "metadata": {
        "id": "mrUx6x5hpjhr"
      },
      "source": [
        "**Question37:**To generates and prints a list of squares from 1 to 20.b"
      ]
    },
    {
      "cell_type": "code",
      "execution_count": null,
      "metadata": {
        "colab": {
          "base_uri": "https://localhost:8080/"
        },
        "id": "3fkFISm8pvhF",
        "outputId": "49221d14-a9cb-4d91-d6de-c370bd37319e"
      },
      "outputs": [
        {
          "name": "stdout",
          "output_type": "stream",
          "text": [
            "[1, 4, 9, 16, 25, 36, 49, 64, 81, 100, 121, 144, 169, 196, 225, 256, 289, 324, 361, 400]\n",
            "Thank You\n"
          ]
        }
      ],
      "source": [
        "def print_squares():\n",
        "\n",
        "  \"\"\"To generates and prints a list of squares from 1 to 20.\"\"\"\n",
        "\n",
        "  squares = []\n",
        "  try:\n",
        "    for i in range(1, 21):\n",
        "      squares.append(i ** 2)\n",
        "    print(squares)\n",
        "  except Exception as e:\n",
        "    print(f'The Error you got is {e}.')\n",
        "  finally:\n",
        "    print('Thank You')\n",
        "if __name__==\"__main__\":\n",
        "  print_squares()"
      ]
    },
    {
      "cell_type": "markdown",
      "metadata": {
        "id": "GrE6olyNqrEZ"
      },
      "source": [
        "**Question38:**Generates a list of squares from 1 to 20 and prints the first 5 elements"
      ]
    },
    {
      "cell_type": "code",
      "execution_count": null,
      "metadata": {
        "colab": {
          "base_uri": "https://localhost:8080/"
        },
        "id": "9a4V6m4OqxLo",
        "outputId": "1e37f03c-e85a-4590-f1c8-f3c832de81f1"
      },
      "outputs": [
        {
          "name": "stdout",
          "output_type": "stream",
          "text": [
            "[1, 4, 9, 16, 25]\n",
            "Thank You\n"
          ]
        }
      ],
      "source": [
        "def print_squares():\n",
        "  \"\"\"Generates a list of squares from 1 to 20 and prints the first 5 elements.\"\"\"\n",
        "\n",
        "  squares = []\n",
        "  try:\n",
        "    for i in range(1, 21):\n",
        "      squares.append(i ** 2)\n",
        "    print(squares[:5])\n",
        "  except Exception as e:\n",
        "    print(f'The Error you got is {e}.')\n",
        "  finally:\n",
        "    print('Thank You')\n",
        "\n",
        "if __name__==\"__main__\":\n",
        "   print_squares()"
      ]
    },
    {
      "cell_type": "markdown",
      "metadata": {
        "id": "2hLO43HQrNYv"
      },
      "source": [
        "**Question39:**Generates a list of squares from 1 to 20 and prints the last 5 elements\n"
      ]
    },
    {
      "cell_type": "code",
      "execution_count": null,
      "metadata": {
        "colab": {
          "base_uri": "https://localhost:8080/"
        },
        "id": "LUavgEBUrRr_",
        "outputId": "b1f7f076-419f-42be-e3e4-5d143d500dca"
      },
      "outputs": [
        {
          "name": "stdout",
          "output_type": "stream",
          "text": [
            "[256, 289, 324, 361, 400]\n",
            "Thank You\n"
          ]
        }
      ],
      "source": [
        "def print_squares():\n",
        "\n",
        "  \"\"\"Generates a list of squares from 1 to 20 and prints the last 5 elements.\"\"\"\n",
        "\n",
        "  squares = []\n",
        "  try:\n",
        "    for i in range(1, 21):\n",
        "      squares.append(i ** 2)\n",
        "    print(squares[-5:])\n",
        "  except Exception as e:\n",
        "    print(f'The Error you got is {e}.')\n",
        "  finally:\n",
        "    print('Thank You')\n",
        "\n",
        "if __name__==\"__main__\":\n",
        "   print_squares()"
      ]
    },
    {
      "cell_type": "markdown",
      "metadata": {
        "id": "3chqWYkGr2oh"
      },
      "source": [
        "**Question40**:Generates a list of squares from 1 to 20 and prints all values except first 5 elements"
      ]
    },
    {
      "cell_type": "code",
      "execution_count": null,
      "metadata": {
        "colab": {
          "base_uri": "https://localhost:8080/"
        },
        "id": "FKVjI1EssEu_",
        "outputId": "8a776492-4bc6-4610-d2ce-1b02a824136b"
      },
      "outputs": [
        {
          "name": "stdout",
          "output_type": "stream",
          "text": [
            "[36, 49, 64, 81, 100, 121, 144, 169, 196, 225, 256, 289, 324, 361, 400]\n",
            "Thank You\n"
          ]
        }
      ],
      "source": [
        "def print_squares():\n",
        "\n",
        "  \"\"\"Generates a list of squares from 1 to 20 and prints the last 5 elements.\"\"\"\n",
        "\n",
        "  squares = []\n",
        "  try:\n",
        "    for i in range(1, 21):\n",
        "      squares.append(i ** 2)\n",
        "    print(squares[5:])\n",
        "  except Exception as e:\n",
        "    print(f'The Error you got is {e}.')\n",
        "  finally:\n",
        "    print('Thank You')\n",
        "\n",
        "if __name__==\"__main__\":\n",
        "   print_squares()"
      ]
    },
    {
      "cell_type": "markdown",
      "metadata": {
        "id": "lTD94evX_ncK"
      },
      "source": [
        "**Question41:**To generate & print a tuple of squares between 1 to 20"
      ]
    },
    {
      "cell_type": "code",
      "execution_count": null,
      "metadata": {
        "colab": {
          "base_uri": "https://localhost:8080/"
        },
        "id": "63ilxLtE_7kq",
        "outputId": "6232e034-8896-4f2a-e3e6-84546e8fc4e5"
      },
      "outputs": [
        {
          "name": "stdout",
          "output_type": "stream",
          "text": [
            "(1, 4, 9, 16, 25, 36, 49, 64, 81, 100, 121, 144, 169, 196, 225, 256, 289, 324, 361, 400)\n"
          ]
        }
      ],
      "source": [
        "def generate_squares_tuple():\n",
        "\n",
        "  \"\"\"Generates and prints a tuple of squares between 1 and 20.\"\"\"\n",
        "\n",
        "  squares_list = []\n",
        "  for i in range(1, 21):\n",
        "    square = i ** 2\n",
        "    squares_list.append(square)\n",
        "  squares_tuple = tuple(squares_list)\n",
        "  print(squares_tuple)\n",
        "\n",
        "if __name__==\"__main__\":\n",
        "    generate_squares_tuple()"
      ]
    },
    {
      "cell_type": "markdown",
      "metadata": {
        "id": "KolaTsGvAzHl"
      },
      "source": [
        "**Question42:**With given tuple print first half in one line & other in 2nd line."
      ]
    },
    {
      "cell_type": "code",
      "execution_count": null,
      "metadata": {
        "colab": {
          "base_uri": "https://localhost:8080/"
        },
        "id": "JDKG8mUMBCAf",
        "outputId": "af3aa5f2-a9f7-47c7-f90e-315fddcd3f3e"
      },
      "outputs": [
        {
          "name": "stdout",
          "output_type": "stream",
          "text": [
            "(1, 2, 3, 4, 5)\n",
            "(6, 7, 8, 9, 10)\n"
          ]
        }
      ],
      "source": [
        "def print_first_half():\n",
        "\n",
        "  \"\"\"With given tuple print first half in one line & other in 2nd line.\"\"\"\n",
        "\n",
        "  my_tuple = (1, 2, 3, 4, 5, 6, 7, 8, 9, 10)\n",
        "  middle_index = len(my_tuple) // 2\n",
        "  first_half = my_tuple[:middle_index]\n",
        "  last_half = my_tuple[middle_index:]\n",
        "  print(first_half)\n",
        "  print(last_half)\n",
        "\n",
        "if __name__==\"__main__\":\n",
        "    print_first_half()"
      ]
    },
    {
      "cell_type": "markdown",
      "metadata": {
        "id": "RG_GUsF61Vcs"
      },
      "source": [
        "**Question43:**To generate and print a tuple contains even number"
      ]
    },
    {
      "cell_type": "code",
      "execution_count": null,
      "metadata": {
        "colab": {
          "base_uri": "https://localhost:8080/"
        },
        "id": "bczJaYxu1iNz",
        "outputId": "fff9d190-cf8b-4caa-994e-b1fcf11f8020"
      },
      "outputs": [
        {
          "name": "stdout",
          "output_type": "stream",
          "text": [
            "(2, 4, 6, 8, 10)\n"
          ]
        }
      ],
      "source": [
        "def get_tuple():\n",
        "\n",
        "  \"\"\"To generate and print a tuple contains even number\"\"\"\n",
        "\n",
        "  even_tuple:tuple=()\n",
        "  for i in range(1,11):\n",
        "    if i%2==0:\n",
        "      even_tuple+=(i,)\n",
        "  print(even_tuple)\n",
        "\n",
        "if __name__=='__main__':\n",
        "  get_tuple()"
      ]
    },
    {
      "cell_type": "markdown",
      "metadata": {
        "id": "v3PT2Zmj2pge"
      },
      "source": [
        "**Question44:**To get a string as input and print yes or no."
      ]
    },
    {
      "cell_type": "code",
      "execution_count": null,
      "metadata": {
        "colab": {
          "base_uri": "https://localhost:8080/"
        },
        "id": "rwuuMeAc3B38",
        "outputId": "81e45544-722a-4a4a-da64-ea992a8ed6f9"
      },
      "outputs": [
        {
          "name": "stdout",
          "output_type": "stream",
          "text": [
            "Enter a string: my\n",
            "NO\n"
          ]
        }
      ],
      "source": [
        "def yes_no():\n",
        "\n",
        "  \"\"\"To get a string as input and print yes or no.\"\"\"\n",
        "\n",
        "  user_input=input('Enter a string: ')\n",
        "  if user_input=='yes'.lower():\n",
        "    print('YES')\n",
        "  else:\n",
        "    print('NO')\n",
        "\n",
        "if __name__=='__main__':\n",
        "    yes_no()"
      ]
    },
    {
      "cell_type": "markdown",
      "metadata": {
        "id": "48qRMWfR4FVy"
      },
      "source": [
        "**Question45:**To get even numbers from list using filter function."
      ]
    },
    {
      "cell_type": "code",
      "execution_count": null,
      "metadata": {
        "colab": {
          "base_uri": "https://localhost:8080/"
        },
        "id": "f9eqJp8v66be",
        "outputId": "da808a83-ecaa-470f-bee0-b754589a1bef"
      },
      "outputs": [
        {
          "name": "stdout",
          "output_type": "stream",
          "text": [
            "[2, 4, 6, 8, 10]\n"
          ]
        }
      ],
      "source": [
        "numbers = [1, 2, 3, 4, 5, 6, 7, 8, 9, 10]\n",
        "\n",
        "even_numbers = list(filter(lambda x: x%2==0, numbers))\n",
        "\n",
        "print(even_numbers)"
      ]
    },
    {
      "cell_type": "markdown",
      "metadata": {
        "id": "iGOXR40D6jmQ"
      },
      "source": [
        "**Question46:**To get a list whose element are square of 1 to 10 using map function."
      ]
    },
    {
      "cell_type": "code",
      "execution_count": null,
      "metadata": {
        "colab": {
          "base_uri": "https://localhost:8080/"
        },
        "id": "iIhnM5of6xOF",
        "outputId": "aca27f26-db51-4bf7-f7e5-f6485fdd1b6e"
      },
      "outputs": [
        {
          "name": "stdout",
          "output_type": "stream",
          "text": [
            "[1, 4, 9, 16, 25, 36, 49, 64, 81, 100]\n"
          ]
        }
      ],
      "source": [
        "numbers = [1, 2, 3, 4, 5, 6, 7, 8, 9, 10]\n",
        "\n",
        "squared_numbers = list(map(lambda x: x**2, numbers))\n",
        "\n",
        "print(squared_numbers)"
      ]
    },
    {
      "cell_type": "markdown",
      "metadata": {
        "id": "N9zau5gE7wQP"
      },
      "source": [
        "**Question47:**To get list whose elements are square of even number from 1 to 10 using map and filter function."
      ]
    },
    {
      "cell_type": "code",
      "execution_count": null,
      "metadata": {
        "colab": {
          "base_uri": "https://localhost:8080/"
        },
        "id": "-EEAWozl8EcW",
        "outputId": "f3ac163b-3f57-43e9-f236-6a9354acd17f"
      },
      "outputs": [
        {
          "name": "stdout",
          "output_type": "stream",
          "text": [
            "[4, 16, 36, 64, 100]\n"
          ]
        }
      ],
      "source": [
        "numbers = [1, 2, 3, 4, 5, 6, 7, 8, 9, 10]\n",
        "\n",
        "even_numbers = list(filter(lambda x: x % 2 == 0, numbers))\n",
        "\n",
        "squared_even_numbers = list(map(lambda x: x**2, even_numbers))\n",
        "\n",
        "print(squared_even_numbers)"
      ]
    },
    {
      "cell_type": "markdown",
      "metadata": {
        "id": "qrmcv64l8s_T"
      },
      "source": [
        "Question48:To get even numbers from list using filter function."
      ]
    },
    {
      "cell_type": "code",
      "execution_count": null,
      "metadata": {
        "colab": {
          "base_uri": "https://localhost:8080/"
        },
        "id": "GavZJRAh8vC5",
        "outputId": "d94b7c75-3a85-4999-cd90-2c3b243a7047"
      },
      "outputs": [
        {
          "name": "stdout",
          "output_type": "stream",
          "text": [
            "[2, 4, 6, 8, 10, 12, 14, 16, 18, 20]\n"
          ]
        }
      ],
      "source": [
        "numbers = [1, 2, 3, 4, 5, 6, 7, 8, 9, 10, 11, 12, 13, 14, 15, 16, 17, 18, 19, 20]\n",
        "\n",
        "even_numbers = list(filter(lambda x: x%2==0, numbers))\n",
        "\n",
        "print(even_numbers)"
      ]
    },
    {
      "cell_type": "markdown",
      "metadata": {
        "id": "tf0ooYuP9D0W"
      },
      "source": [
        "Question49:To get a list whose element are square of 1 to 20 using map function."
      ]
    },
    {
      "cell_type": "code",
      "execution_count": null,
      "metadata": {
        "colab": {
          "base_uri": "https://localhost:8080/"
        },
        "id": "4Qlju8zW9GyK",
        "outputId": "92f389b2-981e-4df5-9bec-921e3318c29b"
      },
      "outputs": [
        {
          "name": "stdout",
          "output_type": "stream",
          "text": [
            "[1, 4, 9, 16, 25, 36, 49, 64, 81, 100, 121, 144, 169, 196, 225, 256, 289, 324, 361, 400]\n"
          ]
        }
      ],
      "source": [
        "numbers = [1, 2, 3, 4, 5, 6, 7, 8, 9, 10, 11, 12, 13, 14, 15, 16, 17, 18, 19, 20]\n",
        "\n",
        "squared_numbers = list(map(lambda x: x**2, numbers))\n",
        "\n",
        "print(squared_numbers)"
      ]
    },
    {
      "cell_type": "markdown",
      "metadata": {
        "id": "D_muB4Ml9kVC"
      },
      "source": [
        "**Question50:**To define a class"
      ]
    },
    {
      "cell_type": "code",
      "execution_count": null,
      "metadata": {
        "id": "RaKRI5sL9qXD"
      },
      "outputs": [],
      "source": [
        "class American:\n",
        "    @staticmethod\n",
        "    def printNationality():\n",
        "        print(\"America\")"
      ]
    },
    {
      "cell_type": "markdown",
      "metadata": {
        "id": "XIEZd5Eq9xhy"
      },
      "source": [
        "**Question51:**To define a subclass."
      ]
    },
    {
      "cell_type": "code",
      "execution_count": null,
      "metadata": {
        "id": "X7M2jO7E94Mo"
      },
      "outputs": [],
      "source": [
        "class American:\n",
        "  def printNationality():\n",
        "    print(\"America\")\n",
        "\n",
        "class NewYorker(American):\n",
        "  pass"
      ]
    },
    {
      "cell_type": "markdown",
      "metadata": {
        "id": "XVCIXE3J-bq-"
      },
      "source": [
        "**Question52:**Initializes a Circle object with the given radius."
      ]
    },
    {
      "cell_type": "code",
      "execution_count": null,
      "metadata": {
        "id": "5syJH8bi-gS9"
      },
      "outputs": [],
      "source": [
        "class Circle:\n",
        "    def __init__(self, radius):\n",
        "\n",
        "        self.radius = radius\n",
        "\n",
        "    def area(self):\n",
        "\n",
        "        return 3.14159 * (self.radius ** 2)"
      ]
    },
    {
      "cell_type": "markdown",
      "metadata": {
        "id": "4K5GBoWQ-5Sx"
      },
      "source": [
        "**Question53:**Initialize a rectangle object with leght and width"
      ]
    },
    {
      "cell_type": "code",
      "execution_count": null,
      "metadata": {
        "id": "iVZIbSHB_KKc"
      },
      "outputs": [],
      "source": [
        "class Rectangle:\n",
        "    def __init__(self, length, width):\n",
        "        self.length = 56\n",
        "        self.width = 76\n",
        "\n",
        "    def area(self):\n",
        "        return self.length * self.width"
      ]
    },
    {
      "cell_type": "markdown",
      "metadata": {
        "id": "zatC8f6cPt3a"
      },
      "source": [
        "**Question54:**Defining a class Shapes and subclass aquare."
      ]
    },
    {
      "cell_type": "code",
      "execution_count": null,
      "metadata": {
        "id": "QdJ5RRP1QEqz"
      },
      "outputs": [],
      "source": [
        "class Shapes:\n",
        "  def __init__(self):\n",
        "    pass\n",
        "  def area(self):\n",
        "    return 0\n",
        "class Square(Shapes):\n",
        "  def __init__(self,lenght):\n",
        "    super.__init__()\n",
        "    self.lenght=lenght\n",
        "\n",
        "  def area(self):\n",
        "    return self.lenght*self.lenght"
      ]
    },
    {
      "cell_type": "markdown",
      "metadata": {
        "id": "-Z1jRaYhRL9c"
      },
      "source": [
        "**Question55**:Raising a RuntimeError exception."
      ]
    },
    {
      "cell_type": "code",
      "execution_count": null,
      "metadata": {
        "colab": {
          "base_uri": "https://localhost:8080/"
        },
        "id": "vD_yAThyRSu1",
        "outputId": "4794d312-bf15-4e87-a1ba-d9bf5e731abd"
      },
      "outputs": [
        {
          "name": "stdout",
          "output_type": "stream",
          "text": [
            "The Error you got is An error occurred.\n"
          ]
        }
      ],
      "source": [
        "try:\n",
        "  raise RuntimeError(\"An error occurred\")\n",
        "except RuntimeError as e:\n",
        "  print(f'The Error you got is {e}.')"
      ]
    },
    {
      "cell_type": "markdown",
      "metadata": {
        "id": "LA2QeJ2CRpJm"
      },
      "source": [
        "**Question56:**To compute 5/0 and using try/except to get exception."
      ]
    },
    {
      "cell_type": "code",
      "execution_count": null,
      "metadata": {
        "colab": {
          "base_uri": "https://localhost:8080/"
        },
        "id": "BB_ZSNC6Ryal",
        "outputId": "9528f125-e8f2-47de-a726-63e739ff4832"
      },
      "outputs": [
        {
          "name": "stdout",
          "output_type": "stream",
          "text": [
            "The Error you got is division by zero.\n",
            "Thank You\n"
          ]
        }
      ],
      "source": [
        "def func():\n",
        "\n",
        "  \"\"\"To compute 5/0 and using try/except to get exception.\"\"\"\n",
        "\n",
        "  try:\n",
        "    result=5/0\n",
        "  except ZeroDivisionError as e:\n",
        "    print(f'The Error you got is {e}.')\n",
        "  finally:\n",
        "    print('Thank You')\n",
        "\n",
        "if __name__=='__main__':\n",
        "      func()"
      ]
    },
    {
      "cell_type": "markdown",
      "metadata": {
        "id": "A32iEYJaSJtM"
      },
      "source": [
        "**Question57:**Defining a custom exception class which takes a string message as attribute."
      ]
    },
    {
      "cell_type": "code",
      "execution_count": null,
      "metadata": {
        "id": "iwgrMYPnSRCj"
      },
      "outputs": [],
      "source": [
        "class CustomException(Exception):\n",
        "    \"\"\"A custom exception class.\"\"\"\n",
        "\n",
        "    def __init__(self, message):\n",
        "        self.message = message\n",
        "        super().__init__(message)"
      ]
    },
    {
      "cell_type": "markdown",
      "metadata": {
        "id": "DpaCVfA3SoFf"
      },
      "source": [
        "**Question58:**To split username & company name from email."
      ]
    },
    {
      "cell_type": "code",
      "execution_count": null,
      "metadata": {
        "colab": {
          "base_uri": "https://localhost:8080/"
        },
        "id": "HH1UoZ3LSbHv",
        "outputId": "e5d0fc73-ee38-4d3d-96ae-ae20f85cf9a5"
      },
      "outputs": [
        {
          "name": "stdout",
          "output_type": "stream",
          "text": [
            "Enter an email: john@google.com\n",
            "Username: john\n",
            "Company Name: google.com\n"
          ]
        }
      ],
      "source": [
        "def user_company():\n",
        "\n",
        "  \"\"\"To split username & company name from email\"\"\"\n",
        "\n",
        "  user_input=input('Enter an email: ')\n",
        "  user_input=user_input.split('@')\n",
        "  print(f'Username: {user_input[0]}')\n",
        "  print(f'Company Name: {user_input[1]}')\n",
        "\n",
        "if __name__=='__main__':\n",
        "    user_company()"
      ]
    },
    {
      "cell_type": "markdown",
      "metadata": {
        "id": "wy_hNg97Tj2y"
      },
      "source": [
        "Question59:To print  company name from email."
      ]
    },
    {
      "cell_type": "code",
      "execution_count": null,
      "metadata": {
        "colab": {
          "base_uri": "https://localhost:8080/"
        },
        "id": "Erh_sa0NTqcQ",
        "outputId": "b91f8d42-3cb1-4510-8051-fe259a22a2fa"
      },
      "outputs": [
        {
          "name": "stdout",
          "output_type": "stream",
          "text": [
            "Enter an email: john@google.com\n",
            "Company Name: google\n"
          ]
        }
      ],
      "source": [
        "def company():\n",
        "\n",
        "  \"\"\"To print company name from email\"\"\"\n",
        "\n",
        "  user_input=input('Enter an email: ')\n",
        "  user_input_1=user_input.split('@')\n",
        "  user_input=user_input_1[1].split('.')\n",
        "\n",
        "  print(f'Company Name: {user_input[0]}')\n",
        "\n",
        "if __name__=='__main__':\n",
        "    company()"
      ]
    },
    {
      "cell_type": "markdown",
      "metadata": {
        "id": "25CZuFaGOMWu"
      },
      "source": [
        "**Question60:**To print digits from the input separated by whitespaces."
      ]
    },
    {
      "cell_type": "code",
      "execution_count": null,
      "metadata": {
        "colab": {
          "base_uri": "https://localhost:8080/"
        },
        "id": "vkCXybbgOZ-I",
        "outputId": "5b5e6871-4f72-4601-9809-e59c6048e19a"
      },
      "outputs": [
        {
          "name": "stdout",
          "output_type": "stream",
          "text": [
            "Enter a string: 2 dogs 3 cats\n",
            "2 3 "
          ]
        }
      ],
      "source": [
        "def print_digit():\n",
        "\n",
        "  \"\"\"To print digits from the input separated by whitespaces.\"\"\"\n",
        "\n",
        "  user_input=input('Enter a string: ')\n",
        "  for i in user_input:\n",
        "    if i.isdigit():\n",
        "      print(i,end=' ')\n",
        "\n",
        "if __name__=='__main__':\n",
        "        print_digit()"
      ]
    },
    {
      "cell_type": "markdown",
      "metadata": {
        "id": "9z6phvRiQ7kM"
      },
      "source": [
        "**Question61**:Printing a unicode string."
      ]
    },
    {
      "cell_type": "code",
      "execution_count": null,
      "metadata": {
        "colab": {
          "base_uri": "https://localhost:8080/"
        },
        "id": "HSJcHK2DRC0v",
        "outputId": "16615a5d-c6f7-4688-c36a-59b432ed71d4"
      },
      "outputs": [
        {
          "name": "stdout",
          "output_type": "stream",
          "text": [
            "hello world\n"
          ]
        }
      ],
      "source": [
        "def print_unicode_string():\n",
        "\n",
        "  \"\"\"Printing a unicode string.\"\"\"\n",
        "\n",
        "  unicode_string = u\"hello world\"\n",
        "  print(unicode_string)\n",
        "\n",
        "if __name__ == \"__main__\":\n",
        "  print_unicode_string()"
      ]
    },
    {
      "cell_type": "markdown",
      "metadata": {
        "id": "NfuSqjb0ikBe"
      },
      "source": [
        "**Question62:**To read ASCII string and convert it to aunicode string encoded by utf-8."
      ]
    },
    {
      "cell_type": "code",
      "execution_count": null,
      "metadata": {
        "colab": {
          "base_uri": "https://localhost:8080/"
        },
        "id": "7WdcQSNci1zU",
        "outputId": "2d8d9f74-ca70-4805-f0c8-cfefbd9380e2"
      },
      "outputs": [
        {
          "name": "stdout",
          "output_type": "stream",
          "text": [
            "Enter an ASCII string: Hello, World!\n",
            "Unicode string: Hello, World!\n",
            "Type: <class 'str'>\n"
          ]
        }
      ],
      "source": [
        "def convert_to_unicode():\n",
        "\n",
        "  \"\"\"To read ASCII string and convert it to aunicode string encoded by utf-8.\"\"\"\n",
        "\n",
        "  ascii_string = input(\"Enter an ASCII string: \")\n",
        "  unicode_string = ascii_string.encode('utf-8').decode('utf-8')\n",
        "\n",
        "  print(\"Unicode string:\", unicode_string)\n",
        "  print(\"Type:\", type(unicode_string))\n",
        "\n",
        "\n",
        "if __name__ == \"__main__\":\n",
        "  convert_to_unicode()"
      ]
    },
    {
      "cell_type": "markdown",
      "metadata": {
        "id": "nxCzZEZ5kHKx"
      },
      "source": [
        "**Question63**:Writing a comment to indicate a python source code file is in unicode"
      ]
    },
    {
      "cell_type": "code",
      "execution_count": null,
      "metadata": {
        "id": "z78KaeY3kXmA"
      },
      "outputs": [],
      "source": [
        "# -*- coding: utf-8 -*-"
      ]
    },
    {
      "cell_type": "markdown",
      "metadata": {
        "id": "boq1H3E7KojU"
      },
      "source": [
        "**Question64**:To computes the sum of the series 1/2 + 2/3 + 3/4 + ... + n/n+1."
      ]
    },
    {
      "cell_type": "code",
      "execution_count": null,
      "metadata": {
        "colab": {
          "base_uri": "https://localhost:8080/"
        },
        "id": "fNZrBFcgK17v",
        "outputId": "1ce3bcd8-3f24-4772-a5e3-58fc7fc3a24c"
      },
      "outputs": [
        {
          "name": "stdout",
          "output_type": "stream",
          "text": [
            "Enter a number(n): 5\n",
            "3.5500000000000003\n"
          ]
        }
      ],
      "source": [
        "def compute_series(n):\n",
        "\n",
        "  \"\"\"To computes the sum of the series 1/2 + 2/3 + 3/4 + ... + n/n+1.\"\"\"\n",
        "\n",
        "  total_sum=0\n",
        "  n=int(input('Enter a number(n): '))\n",
        "  for i in range(1,n+1):\n",
        "    total_sum+=float(i)/(i+1)\n",
        "  return total_sum\n",
        "  print(f\"The total sum of series is :{total_sum}\")\n",
        "if __name__=='__main__':\n",
        "  print(compute_series(5))"
      ]
    },
    {
      "cell_type": "markdown",
      "metadata": {
        "id": "k-sNN-yfMB5u"
      },
      "source": [
        "**Question65:**Function to computes f(n) = f(n-1) + 100 when n > 0 and f(0) = 1."
      ]
    },
    {
      "cell_type": "code",
      "execution_count": null,
      "metadata": {
        "colab": {
          "base_uri": "https://localhost:8080/"
        },
        "id": "RhDkFlSeMJ-e",
        "outputId": "781dce69-a831-438b-9253-fe52ea5030b2"
      },
      "outputs": [
        {
          "name": "stdout",
          "output_type": "stream",
          "text": [
            "Enter a number (n>0): 5\n",
            "500\n"
          ]
        }
      ],
      "source": [
        "def f(n):\n",
        "\n",
        "  \"\"\"Function to computes f(n) = f(n-1) + 100 when n > 0 and f(0) = 1.\"\"\"\n",
        "\n",
        "  if n == 0:\n",
        "    return 1\n",
        "  else:\n",
        "    return f(n - 1) + 100\n",
        "\n",
        "n = int(input(\"Enter a number (n>0): \"))\n",
        "result = f(n) -1\n",
        "print(result)"
      ]
    },
    {
      "cell_type": "markdown",
      "metadata": {
        "id": "Py60WdytpXo7"
      },
      "source": [
        "**Question66:**Defining a function to compute the value of f(n) for the Fibonacci sequence."
      ]
    },
    {
      "cell_type": "code",
      "execution_count": null,
      "metadata": {
        "colab": {
          "base_uri": "https://localhost:8080/"
        },
        "id": "quK0rxLVpljB",
        "outputId": "d372ea13-ae82-41ea-ca1a-7589d6d21534"
      },
      "outputs": [
        {
          "name": "stdout",
          "output_type": "stream",
          "text": [
            "Enter a number: 7\n",
            "13\n"
          ]
        }
      ],
      "source": [
        "def fibonacci(n):\n",
        "\n",
        "    \"\"\"Defining a function to compute the value of f(n) for the Fibonacci sequence.\"\"\"\n",
        "\n",
        "    if n == 0:\n",
        "        return 0\n",
        "    elif n == 1:\n",
        "        return 1\n",
        "    else:\n",
        "        return fibonacci(n - 1) + fibonacci(n - 2)\n",
        "\n",
        "n = int(input(\"Enter a number: \"))\n",
        "result = fibonacci(n)\n",
        "print(result)"
      ]
    },
    {
      "cell_type": "markdown",
      "metadata": {
        "id": "BQRg6ELPbIgF"
      },
      "source": [
        "**Question67:**To generates the Fibonacci sequence up to n terms using list comprehension."
      ]
    },
    {
      "cell_type": "code",
      "execution_count": null,
      "metadata": {
        "colab": {
          "base_uri": "https://localhost:8080/"
        },
        "id": "qMjByYebbprd",
        "outputId": "a8e4edd6-7f5f-48aa-9200-7b4b7df36b4c"
      },
      "outputs": [
        {
          "name": "stdout",
          "output_type": "stream",
          "text": [
            "Enter the number of terms: 7\n",
            "0,1,1,2,3,5,8\n"
          ]
        }
      ],
      "source": [
        "def fibonacci_sequence(n):\n",
        "\n",
        "    \"\"\"Generates the Fibonacci sequence up to n terms using list comprehension.\"\"\"\n",
        "\n",
        "    if n <= 0:\n",
        "        return []\n",
        "    elif n == 1:\n",
        "        return [0]\n",
        "    else:\n",
        "        fib_list = [0, 1]\n",
        "        for i in range(2, n):\n",
        "            fib_list.append(fib_list[i - 1] + fib_list[i - 2])\n",
        "        return fib_list\n",
        "n = int(input(\"Enter the number of terms: \"))\n",
        "fib_sequence = fibonacci_sequence(n)\n",
        "print(\",\".join(map(str, fib_sequence)))"
      ]
    },
    {
      "cell_type": "markdown",
      "metadata": {
        "id": "14zgOVrscIhQ"
      },
      "source": [
        "**Question68:**To generate even numbers between 0 to input_number."
      ]
    },
    {
      "cell_type": "code",
      "execution_count": null,
      "metadata": {
        "colab": {
          "base_uri": "https://localhost:8080/"
        },
        "id": "rSS_k3A0cUiD",
        "outputId": "d4c2ad31-b9ea-4d58-c426-c29e71684bab"
      },
      "outputs": [
        {
          "name": "stdout",
          "output_type": "stream",
          "text": [
            "Enter an integer: 10\n",
            "0,2,4,6,8,10,Thank You\n"
          ]
        }
      ],
      "source": [
        "def even():\n",
        "\n",
        "  \"\"\"To generate even numbers between 0 to input_number.\"\"\"\n",
        "  try:\n",
        "    n=input(\"Enter an integer: \")\n",
        "    n=int(n)\n",
        "    for i in range(0,n+1):\n",
        "      if i%2==0:\n",
        "        print(i,end=',')\n",
        "  except Exception as e:\n",
        "    print(f'The Error you got is {e}.')\n",
        "  finally:\n",
        "    print('Thank You')\n",
        "if __name__==\"__main__\":\n",
        "    even()"
      ]
    },
    {
      "cell_type": "markdown",
      "metadata": {
        "id": "iA1JT2DZdgvx"
      },
      "source": [
        "**Question69:**To generate numbers divisible by 5 & 7 between 0 & input number."
      ]
    },
    {
      "cell_type": "code",
      "execution_count": null,
      "metadata": {
        "colab": {
          "base_uri": "https://localhost:8080/"
        },
        "id": "wjygTmQKifk6",
        "outputId": "34867ea7-f2a2-47a9-c410-6dcbb3b2a82e"
      },
      "outputs": [
        {
          "name": "stdout",
          "output_type": "stream",
          "text": [
            "Enter an integer: 100\n",
            "0,35,70,"
          ]
        }
      ],
      "source": [
        "def divisible():\n",
        "\n",
        "  \"\"\"To generate numbers divisible by 5 & 7 between 0 & input number.\"\"\"\n",
        "\n",
        "  n=input(\"Enter an integer: \")\n",
        "  n=int(n)\n",
        "  try:\n",
        "    for i in  range(0,n+1):\n",
        "      if i%5==0 and i%7==0 :\n",
        "        print(i,end=',')\n",
        "  except Exception as e:\n",
        "    print(f\"The Error you got is {e}.\")\n",
        "\n",
        "if __name__==\"__main__\":\n",
        "     divisible()"
      ]
    },
    {
      "cell_type": "markdown",
      "metadata": {
        "id": "Zrj0SytKklCC"
      },
      "source": [
        "**Qusetion70:**Verifing that every number in the list is even using assert statements."
      ]
    },
    {
      "cell_type": "code",
      "execution_count": null,
      "metadata": {
        "colab": {
          "base_uri": "https://localhost:8080/"
        },
        "id": "ae39B6sDkr2a",
        "outputId": "a81f9364-2211-47df-be59-64c1757fd973"
      },
      "outputs": [
        {
          "name": "stdout",
          "output_type": "stream",
          "text": [
            "The Error you got is Assertion failed: 9 is not even..\n"
          ]
        }
      ],
      "source": [
        "def verify_even_numbers(numbers):\n",
        "\n",
        "  \"\"\"Verifies that every number in the list is even using assert statements.\"\"\"\n",
        "  try:\n",
        "    for number in numbers:\n",
        "      assert number % 2 == 0, f\"Assertion failed: {number} is not even.\"\n",
        "    numbers = [2, 4, 6, 8, 9,7]\n",
        "    verify_even_numbers(numbers)\n",
        "    print(\"All numbers in the list are even.\")\n",
        "  except Exception as e:\n",
        "    print(f\"The Error you got is {e}.\")\n",
        "\n",
        "if __name__==\"__main__\":\n",
        "    verify_even_numbers(numbers)"
      ]
    },
    {
      "cell_type": "markdown",
      "metadata": {
        "id": "GkPtmdTYmJOL"
      },
      "source": [
        "**Question71**:Adding numbers by eval() to evaluate expression"
      ]
    },
    {
      "cell_type": "code",
      "execution_count": null,
      "metadata": {
        "colab": {
          "base_uri": "https://localhost:8080/"
        },
        "id": "OOA4gpqUmWur",
        "outputId": "b6c79e7a-eba6-48b7-bc8b-f5bb45acfe66"
      },
      "outputs": [
        {
          "name": "stdout",
          "output_type": "stream",
          "text": [
            "Enter a mathematical expression: 35*3\n",
            "105\n"
          ]
        }
      ],
      "source": [
        "\"\"\"Adding numbers by eval() to evaluate expression\"\"\"\n",
        "expression = input(\"Enter a mathematical expression: \")\n",
        "\n",
        "try:\n",
        "    result = eval(expression)\n",
        "    print(result)\n",
        "except (SyntaxError, NameError, TypeError):\n",
        "    print(\"Invalid mathematical expression.\")"
      ]
    },
    {
      "cell_type": "markdown",
      "metadata": {
        "id": "N2Y0Ywr7nOjG"
      },
      "source": [
        "**Question72:**Searching for a target element in a sorted list using binary search."
      ]
    },
    {
      "cell_type": "code",
      "execution_count": null,
      "metadata": {
        "id": "LoKybNjanNrs"
      },
      "outputs": [],
      "source": [
        "def binary_search(sorted_list, target):\n",
        "\n",
        "    \"\"\"Searching for a target element in a sorted list using binary search.\"\"\"\n",
        "\n",
        "    low = 0\n",
        "    high = len(sorted_list) - 1\n",
        "\n",
        "    while low <= high:\n",
        "        mid = (low + high) // 2\n",
        "        if sorted_list[mid] == target:\n",
        "            return mid\n",
        "        elif sorted_list[mid] < target:\n",
        "            low = mid + 1\n",
        "        else:\n",
        "            high = mid - 1\n",
        "\n",
        "    return -1"
      ]
    },
    {
      "cell_type": "markdown",
      "metadata": {
        "id": "XbkI7juRo43L"
      },
      "source": [
        "**Question73**:Searching for a target element in a sorted list using binary search."
      ]
    },
    {
      "cell_type": "code",
      "execution_count": null,
      "metadata": {
        "id": "niuXYEfdo8j4"
      },
      "outputs": [],
      "source": [
        "def binary_search(sorted_list, target):\n",
        "\n",
        "    \"\"\"Searching for a target element in a sorted list using binary search.\"\"\"\n",
        "\n",
        "    low = 0\n",
        "    high = len(sorted_list) - 1\n",
        "\n",
        "    while low <= high:\n",
        "        mid = (low + high) // 2\n",
        "        if sorted_list[mid] == target:\n",
        "            return mid\n",
        "        elif sorted_list[mid] < target:\n",
        "            low = mid + 1\n",
        "        else:\n",
        "            high = mid - 1\n",
        "\n",
        "    return -1"
      ]
    },
    {
      "cell_type": "markdown",
      "metadata": {
        "id": "8BQGJTSvpqo-"
      },
      "source": [
        "**Question74**:To generate a float between 10 to 100."
      ]
    },
    {
      "cell_type": "code",
      "execution_count": null,
      "metadata": {
        "colab": {
          "base_uri": "https://localhost:8080/"
        },
        "id": "7ktX44M7p9qt",
        "outputId": "e47f9871-fbd9-4a69-bfe3-d96b366218ce"
      },
      "outputs": [
        {
          "name": "stdout",
          "output_type": "stream",
          "text": [
            "71.57530631993222\n"
          ]
        }
      ],
      "source": [
        "import random\n",
        "def generate_random_float():\n",
        "  \"\"\"Generates a random float between 10 and 100.\"\"\"\n",
        "  random_float = random.uniform(10, 100)\n",
        "  return random_float\n",
        "\n",
        "random_number = generate_random_float()\n",
        "print(random_number)\n",
        "\n",
        "if __name__==\"__main__\":\n",
        "    generate_random_float()"
      ]
    },
    {
      "cell_type": "markdown",
      "metadata": {
        "id": "TY74hfC7ry_j"
      },
      "source": [
        "Question75:To generate a float between 5 to 95."
      ]
    },
    {
      "cell_type": "code",
      "execution_count": null,
      "metadata": {
        "colab": {
          "base_uri": "https://localhost:8080/"
        },
        "id": "NoknyCCZr9dz",
        "outputId": "691cb3de-a096-4e7e-bacb-afbabddfd530"
      },
      "outputs": [
        {
          "name": "stdout",
          "output_type": "stream",
          "text": [
            "44.21807202521623\n"
          ]
        }
      ],
      "source": [
        "import random\n",
        "def generate_random_float():\n",
        "  \"\"\"Generates a random float between 10 and 100.\"\"\"\n",
        "  random_float = random.uniform(5,95)\n",
        "  return random_float\n",
        "\n",
        "random_number = generate_random_float()\n",
        "print(random_number)\n",
        "\n",
        "if __name__==\"__main__\":\n",
        "    generate_random_float()"
      ]
    },
    {
      "cell_type": "markdown",
      "metadata": {
        "id": "TZ-sX15qsOhw"
      },
      "source": [
        "**Question76**:To generate random even number from list 0 to 10"
      ]
    },
    {
      "cell_type": "code",
      "execution_count": null,
      "metadata": {
        "colab": {
          "base_uri": "https://localhost:8080/"
        },
        "id": "J8snkMJ7sZBb",
        "outputId": "5cb47aee-68a9-42e6-fe59-b2e105a297e9"
      },
      "outputs": [
        {
          "name": "stdout",
          "output_type": "stream",
          "text": [
            "8\n"
          ]
        }
      ],
      "source": [
        "import random\n",
        "def generate_even_number():\n",
        "\n",
        "  \"\"\"To generates a random even number from list 0 to 10.\"\"\"\n",
        "\n",
        "  numbers:list=[0,1,2,3,4,5,6,7,8,9,10]\n",
        "  random_even_number=random.choice([num for num in numbers if num%2==0])\n",
        "  print(random_even_number)\n",
        "\n",
        "if __name__==\"__main__\":\n",
        "     generate_even_number()"
      ]
    },
    {
      "cell_type": "markdown",
      "metadata": {
        "id": "YACfTljdtKOE"
      },
      "source": [
        "Question77:To generate random number divisible by 5 & 7 from 0 to 10."
      ]
    },
    {
      "cell_type": "code",
      "execution_count": null,
      "metadata": {
        "colab": {
          "base_uri": "https://localhost:8080/"
        },
        "id": "mgesm3D1tX50",
        "outputId": "5d28d243-5c9b-4674-a68f-1734f3a01394"
      },
      "outputs": [
        {
          "name": "stdout",
          "output_type": "stream",
          "text": [
            "0\n"
          ]
        }
      ],
      "source": [
        "import random\n",
        "def generate_random_number():\n",
        "\n",
        "  \"\"\"To generate random number divisible by 5 & 7 from 0 to 10\"\"\"\n",
        "\n",
        "  random_num=random.choice([num for num in range(0,10) if num%5==0 and num%7==0])\n",
        "  print(random_num)\n",
        "\n",
        "if __name__==\"__main__\":\n",
        "    generate_random_number()"
      ]
    },
    {
      "cell_type": "markdown",
      "metadata": {
        "id": "XtEVCQ_RuFk8"
      },
      "source": [
        "**Question78**:To generate a list with 5 random numbers between 100 and 200 inclusive."
      ]
    },
    {
      "cell_type": "code",
      "execution_count": null,
      "metadata": {
        "colab": {
          "base_uri": "https://localhost:8080/"
        },
        "id": "agLsGdTCuKhT",
        "outputId": "6e4830aa-2fb7-488f-849b-de5c3b4c1e91"
      },
      "outputs": [
        {
          "name": "stdout",
          "output_type": "stream",
          "text": [
            "[123, 137, 157, 171, 184]\n"
          ]
        }
      ],
      "source": [
        "import random\n",
        "\n",
        "def generate_random_numbers():\n",
        "\n",
        "  \"\"\"Generates a list with 5 random numbers between 100 and 200 inclusive.\"\"\"\n",
        "\n",
        "  random_numbers = random.sample(range(100, 201), 5)\n",
        "  print(random_numbers)\n",
        "\n",
        "if __name__ == \"__main__\":\n",
        "  generate_random_numbers()"
      ]
    },
    {
      "cell_type": "markdown",
      "metadata": {
        "id": "y8qvShj5uw_s"
      },
      "source": [
        "**Question79**:To randomly generate a list with 5 even numbers between 100 and 200."
      ]
    },
    {
      "cell_type": "code",
      "execution_count": null,
      "metadata": {
        "colab": {
          "base_uri": "https://localhost:8080/"
        },
        "id": "ek-Bl8S9u3j8",
        "outputId": "8f8a259e-f823-4196-fd75-6389eb43a906"
      },
      "outputs": [
        {
          "name": "stdout",
          "output_type": "stream",
          "text": [
            "[116, 194, 158, 106, 122]\n"
          ]
        }
      ],
      "source": [
        "import random\n",
        "def generate_random_numbers():\n",
        "\n",
        "  \"\"\"To generates a list with 5 random numbers between 100 and 200 inclusive.\"\"\"\n",
        "\n",
        "  even_numbers = [num for num in range(100, 201) if num % 2 == 0]\n",
        "  random_even_numbers = random.sample(even_numbers, 5)\n",
        "  print(random_even_numbers)\n",
        "\n",
        "if __name__ == \"__main__\":\n",
        "  generate_random_numbers()"
      ]
    },
    {
      "cell_type": "markdown",
      "metadata": {
        "id": "xGKDHZMwwNg8"
      },
      "source": [
        "**Question80**:To generate a list with 5 numbers, which are divisible by 5 and 7 , between 1 and 1000."
      ]
    },
    {
      "cell_type": "code",
      "execution_count": null,
      "metadata": {
        "colab": {
          "base_uri": "https://localhost:8080/"
        },
        "id": "KJ4Q72_dwTho",
        "outputId": "b5f6ca4c-f6d3-4ae5-b8d7-97dafe35d93f"
      },
      "outputs": [
        {
          "name": "stdout",
          "output_type": "stream",
          "text": [
            "[280, 455, 595, 735, 805]\n"
          ]
        }
      ],
      "source": [
        "import random\n",
        "def gen_rand_num():\n",
        "\n",
        "  \"\"\"To generates a list with 5 numbers, which are divisible by 5 and 7 , between 1 and 1000.\"\"\"\n",
        "\n",
        "  numbers=[num for num in range(1,1001) if num%5==0 and num%7==0]\n",
        "  random_numbers=random.sample(numbers,5)\n",
        "  print(random_numbers)\n",
        "\n",
        "if __name__==\"__main__\":\n",
        "    gen_rand_num()"
      ]
    },
    {
      "cell_type": "markdown",
      "metadata": {
        "id": "aqC3tOyHxFTk"
      },
      "source": [
        "**Question81**:To randomly print a integer number between 7 and 15."
      ]
    },
    {
      "cell_type": "code",
      "execution_count": null,
      "metadata": {
        "colab": {
          "base_uri": "https://localhost:8080/"
        },
        "id": "lgcZbJ2pxMmW",
        "outputId": "9133e44d-4d3b-4f1c-ecee-7079cb44e8c5"
      },
      "outputs": [
        {
          "name": "stdout",
          "output_type": "stream",
          "text": [
            "14\n"
          ]
        }
      ],
      "source": [
        "import random\n",
        "\n",
        "def print_random_integer():\n",
        "\n",
        "  \"\"\"To randomly print a integer number between 7 and 15.\"\"\"\n",
        "\n",
        "  random_integer = random.randrange(7, 16)\n",
        "  print(random_integer)\n",
        "\n",
        "if __name__ == \"__main__\":\n",
        "  print_random_integer()"
      ]
    },
    {
      "cell_type": "markdown",
      "metadata": {
        "id": "eLWiBZLExqXX"
      },
      "source": [
        "**Question82**:To compress and decompress the string"
      ]
    },
    {
      "cell_type": "code",
      "execution_count": 2,
      "metadata": {
        "colab": {
          "base_uri": "https://localhost:8080/"
        },
        "id": "CH_KRGbn0Ut9",
        "outputId": "d020f31a-1394-4e82-d362-6bec1cbc46b1"
      },
      "outputs": [
        {
          "name": "stdout",
          "output_type": "stream",
          "text": [
            "Original string: hello world!hello world!hello world!hello world!\n",
            "Compressed string: b'x\\x9c\\xcbH\\xcd\\xc9\\xc9W(\\xcf/\\xcaIQ\\xcc \\x82\\r\\x00\\xbd[\\x11\\xf5'\n",
            "Decompressed string: hello world!hello world!hello world!hello world!\n"
          ]
        }
      ],
      "source": [
        "import zlib\n",
        "\n",
        "def compress_and_decompress(input_string):\n",
        "\n",
        "  \"\"\"Compresses and decompresses the string.\"\"\"\n",
        "\n",
        "  compressed_string = zlib.compress(input_string.encode())\n",
        "  decompressed_string = zlib.decompress(compressed_string).decode()\n",
        "  print(\"Original string:\", input_string)\n",
        "  print(\"Compressed string:\", compressed_string)\n",
        "  print(\"Decompressed string:\", decompressed_string)\n",
        "  return compressed_string, decompressed_string\n",
        "\n",
        "if __name__ == \"__main__\":\n",
        "  input_string = \"hello world!hello world!hello world!hello world!\"\n",
        "  compress_and_decompress(input_string)"
      ]
    },
    {
      "cell_type": "markdown",
      "metadata": {
        "id": "Gd53hDKK0Zm9"
      },
      "source": [
        "**Question83**:To print the running time of execution of \"1+1\" for 100 times."
      ]
    },
    {
      "cell_type": "code",
      "execution_count": 3,
      "metadata": {
        "colab": {
          "base_uri": "https://localhost:8080/"
        },
        "id": "KJJrrqtt0uWs",
        "outputId": "8c1fa5cc-4fdf-4536-c288-b40638852122"
      },
      "outputs": [
        {
          "name": "stdout",
          "output_type": "stream",
          "text": [
            "Running time: 2.6009999771758885e-06 seconds\n"
          ]
        }
      ],
      "source": [
        "import timeit\n",
        "\n",
        "def calculate_running_time():\n",
        "\n",
        "  \"\"\"Calculates the running time of executing '1+1' 100 times.\"\"\"\n",
        "\n",
        "  code_snippet = \"1 + 1\"\n",
        "  running_time = timeit.timeit(code_snippet, number=100)\n",
        "  print(f\"Running time: {running_time} seconds\")\n",
        "\n",
        "if __name__ == \"__main__\":\n",
        "  calculate_running_time()"
      ]
    },
    {
      "cell_type": "markdown",
      "metadata": {
        "id": "8YPYcrCz1FqG"
      },
      "source": [
        "**Question84**:To shuffle and print the list"
      ]
    },
    {
      "cell_type": "code",
      "execution_count": 5,
      "metadata": {
        "colab": {
          "base_uri": "https://localhost:8080/"
        },
        "id": "0DjGwotN1LFk",
        "outputId": "fe60411c-fe3b-4a19-f6b9-84765185e7ef"
      },
      "outputs": [
        {
          "name": "stdout",
          "output_type": "stream",
          "text": [
            "Shuffled list: [3, 0, 7, 8, 4, 6]\n"
          ]
        }
      ],
      "source": [
        "import random\n",
        "def shuffle_list():\n",
        "\n",
        "  \"\"\"Shuffles and prints the list.\"\"\"\n",
        "  input_list = [3,6,7,8,4,0]\n",
        "  random.shuffle(input_list)\n",
        "  print(\"Shuffled list:\", input_list)\n",
        "\n",
        "if __name__ == \"__main__\":\n",
        "  shuffle_list()"
      ]
    },
    {
      "cell_type": "markdown",
      "metadata": {
        "id": "vy-cRmFe1f8g"
      },
      "source": [
        "\n",
        "Question85:To shuffle and print the **list**"
      ]
    },
    {
      "cell_type": "code",
      "execution_count": 7,
      "metadata": {
        "colab": {
          "base_uri": "https://localhost:8080/"
        },
        "id": "RJZyS-yh1h_U",
        "outputId": "47fa67c4-b936-42b3-9d21-9b0199328e43"
      },
      "outputs": [
        {
          "name": "stdout",
          "output_type": "stream",
          "text": [
            "Shuffled list: [4, 6, 3, 7, 0, 8]\n"
          ]
        }
      ],
      "source": [
        "def shuffle_list():\n",
        "\n",
        "  \"\"\"Shuffles and prints the list.\"\"\"\n",
        "  input_list = [3,6,7,8,4,0]\n",
        "  random.shuffle(input_list)\n",
        "  print(\"Shuffled list:\", input_list)\n",
        "\n",
        "if __name__==\"__main__\":\n",
        "    shuffle_list()"
      ]
    },
    {
      "cell_type": "markdown",
      "metadata": {
        "id": "wijQM627BTes"
      },
      "source": [
        "**Question86**:To generate all sentences where subject is in [\"I\", \"You\"] and verb is in [\"Play\", \"Love\"] and the object is in [\"Hockey\",\"Football\"]."
      ]
    },
    {
      "cell_type": "code",
      "execution_count": 8,
      "metadata": {
        "colab": {
          "base_uri": "https://localhost:8080/"
        },
        "id": "p6lrl6ZJBYwR",
        "outputId": "8a536f86-920e-4042-fa03-b47ea3dee212"
      },
      "outputs": [
        {
          "name": "stdout",
          "output_type": "stream",
          "text": [
            "I Play Hockey\n",
            "I Play Football\n",
            "I Love Hockey\n",
            "I Love Football\n",
            "You Play Hockey\n",
            "You Play Football\n",
            "You Love Hockey\n",
            "You Love Football\n"
          ]
        }
      ],
      "source": [
        "\"\"\"To generate all sentences where subject is in [\"I\", \"You\"] and verb is in [\"Play\", \"Love\"] and the object is in [\"Hockey\",\"Football\"].\"\"\"\n",
        "\n",
        "subjects = [\"I\", \"You\"]\n",
        "verbs = [\"Play\", \"Love\"]\n",
        "objects = [\"Hockey\", \"Football\"]\n",
        "\n",
        "for subject in subjects:\n",
        "  for verb in verbs:\n",
        "    for object in objects:\n",
        "      sentence = subject + \" \" + verb + \" \" + object\n",
        "      print(sentence)"
      ]
    },
    {
      "cell_type": "markdown",
      "metadata": {
        "id": "MT93gWMfCSol"
      },
      "source": [
        "**Question87**:To print the list after removing delete even numbers in [5,6,77,45,22,12,24].\n",
        "\n"
      ]
    },
    {
      "cell_type": "code",
      "execution_count": 13,
      "metadata": {
        "colab": {
          "base_uri": "https://localhost:8080/"
        },
        "id": "E0kKhxWSCXPU",
        "outputId": "f5912bb1-5690-43d6-ca7e-99704c645a56"
      },
      "outputs": [
        {
          "name": "stdout",
          "output_type": "stream",
          "text": [
            "[5, 77, 45]\n"
          ]
        }
      ],
      "source": [
        "\"\"\"To print the list after removing delete even numbers in [5,6,77,45,22,12,24]\"\"\"\n",
        "\n",
        "numbers = [5, 6, 77, 45, 22, 12, 24]\n",
        "\n",
        "odd_numbers = [num for num in numbers if num % 2 != 0]\n",
        "\n",
        "print(odd_numbers)"
      ]
    },
    {
      "cell_type": "markdown",
      "metadata": {
        "id": "u_T0X5frC88x"
      },
      "source": [
        "**Question88**:To print the list after removing delete numbers which are divisible by 5 and 7 in [12,24,35,70,88,120,155]."
      ]
    },
    {
      "cell_type": "code",
      "execution_count": 14,
      "metadata": {
        "colab": {
          "base_uri": "https://localhost:8080/"
        },
        "id": "fxq06jvNDMG9",
        "outputId": "b62d13cc-a05a-4473-c100-b74cb67bdda2"
      },
      "outputs": [
        {
          "name": "stdout",
          "output_type": "stream",
          "text": [
            "[12, 24, 88, 120, 155]\n"
          ]
        }
      ],
      "source": [
        "\"\"\"To print the list after removing delete numbers which are divisible by 5 and 7 in [12,24,35,70,88,120,155]\"\"\"\n",
        "\n",
        "numbers = [12, 24, 35, 70, 88, 120, 155]\n",
        "\n",
        "filtered_numbers = [num for num in numbers if num % 5 != 0 or num % 7 != 0]\n",
        "\n",
        "print(filtered_numbers)"
      ]
    },
    {
      "cell_type": "markdown",
      "metadata": {
        "id": "b75BaW7vEJd3"
      },
      "source": [
        "**Question89**:To print the list after removing the 0th, 2nd, 4th,6th numbers in [12,24,35,70,88,120,155]."
      ]
    },
    {
      "cell_type": "code",
      "execution_count": 15,
      "metadata": {
        "colab": {
          "base_uri": "https://localhost:8080/"
        },
        "id": "XlVp-1lyEYQS",
        "outputId": "4adda146-4c25-48ad-fcba-f0b7781c41ae"
      },
      "outputs": [
        {
          "name": "stdout",
          "output_type": "stream",
          "text": [
            "[24, 70, 120]\n"
          ]
        }
      ],
      "source": [
        "\"\"\"To print the list after removing the 0th, 2nd, 4th,6th numbers in [12,24,35,70,88,120,155].\"\"\"\n",
        "\n",
        "numbers = [12, 24, 35, 70, 88, 120, 155]\n",
        "\n",
        "filtered_numbers = [num for i, num in enumerate(numbers) if i not in (0, 2, 4, 6)]\n",
        "\n",
        "print(filtered_numbers)"
      ]
    },
    {
      "cell_type": "markdown",
      "metadata": {
        "id": "SfKVSON6FT4d"
      },
      "source": [
        "**Question90:**To generate a 358 3D array whose each element is 0."
      ]
    },
    {
      "cell_type": "code",
      "execution_count": 18,
      "metadata": {
        "id": "VnSd7QecFeKN"
      },
      "outputs": [],
      "source": [
        "\"\"\"To generate a 358 3D array whose each element is 0\"\"\"\n",
        "\n",
        "array_3d = [[[0 for _ in range(8)] for _ in range(5)] for _ in range(3)]"
      ]
    },
    {
      "cell_type": "markdown",
      "metadata": {
        "id": "kbxGczK9GGPu"
      },
      "source": [
        "**Question91:**To print the list after removing the 0th,4th,5th numbers in [12,24,35,70,88,120,155]."
      ]
    },
    {
      "cell_type": "code",
      "execution_count": 19,
      "metadata": {
        "colab": {
          "base_uri": "https://localhost:8080/"
        },
        "id": "6zE28BGhGVVn",
        "outputId": "3ca969af-0628-4f1c-ead0-80dcf3e6ee0e"
      },
      "outputs": [
        {
          "name": "stdout",
          "output_type": "stream",
          "text": [
            "[24, 35, 70, 155]\n"
          ]
        }
      ],
      "source": [
        "\"\"\"To print the list after removing the 0th,4th,5th numbers in [12,24,35,70,88,120,155].\"\"\"\n",
        "\n",
        "numbers = [12, 24, 35, 70, 88, 120, 155]\n",
        "\n",
        "filtered_numbers = [num for i, num in enumerate(numbers) if i not in (0, 4, 5)]\n",
        "\n",
        "print(filtered_numbers)"
      ]
    },
    {
      "cell_type": "markdown",
      "metadata": {
        "id": "bRxl9zgZHSDt"
      },
      "source": [
        "**Question92**:To print the list after removing the value 24 in [12,24,35,24,88,120,155]."
      ]
    },
    {
      "cell_type": "code",
      "execution_count": 21,
      "metadata": {
        "colab": {
          "base_uri": "https://localhost:8080/"
        },
        "id": "w8HgwKTkHjrJ",
        "outputId": "f8b558ba-c70f-4f46-e045-d1386130f588"
      },
      "outputs": [
        {
          "name": "stdout",
          "output_type": "stream",
          "text": [
            "[12, 35, 88, 120, 155]\n"
          ]
        }
      ],
      "source": [
        "\"\"\"To print the list after removing the value 24 in [12,24,35,24,88,120,155].\"\"\"\n",
        "\n",
        "numbers = [12, 24, 35, 24, 88, 120, 155]\n",
        "new_numbers = [num for num in numbers if num != 24]\n",
        "print(new_numbers)"
      ]
    },
    {
      "cell_type": "markdown",
      "metadata": {
        "id": "ngx_g1lyHyZz"
      },
      "source": [
        "**Question93**:To make a list whose elements are intersection."
      ]
    },
    {
      "cell_type": "code",
      "execution_count": 23,
      "metadata": {
        "colab": {
          "base_uri": "https://localhost:8080/"
        },
        "id": "Yj_Ya73HIIqX",
        "outputId": "b8d16523-3d44-4fb7-a860-46f2cebb1747"
      },
      "outputs": [
        {
          "name": "stdout",
          "output_type": "stream",
          "text": [
            "[35]\n"
          ]
        }
      ],
      "source": [
        "def find_intersection(list1, list2):\n",
        "\n",
        "    \"\"\"To make a list whose elements are intersection\"\"\"\n",
        "\n",
        "    set1 = set(list1)\n",
        "    set2 = set(list2)\n",
        "    set1 &= set2\n",
        "    return list(set1)\n",
        "\n",
        "list1 = [1, 3, 6, 78, 35, 55]\n",
        "list2 = [12, 24, 35, 24, 88, 120, 155]\n",
        "intersection_list = find_intersection(list1, list2)\n",
        "print(intersection_list)"
      ]
    },
    {
      "cell_type": "markdown",
      "metadata": {
        "id": "avneYC2yIm3m"
      },
      "source": [
        "**Question94**:To print this list after removing all duplicate values with original order reserved."
      ]
    },
    {
      "cell_type": "code",
      "execution_count": 25,
      "metadata": {
        "colab": {
          "base_uri": "https://localhost:8080/"
        },
        "id": "hBed0d4EIs0v",
        "outputId": "1898b020-e16c-4540-8df3-cef376b54623"
      },
      "outputs": [
        {
          "name": "stdout",
          "output_type": "stream",
          "text": [
            "[12, 24, 35, 88, 120, 155]\n"
          ]
        }
      ],
      "source": [
        "def remove_duplicates_preserve_order(input_list):\n",
        "\n",
        "  \"\"\"To print this list after removing all duplicate values with original order reserved.\"\"\"\n",
        "\n",
        "  seen = set()\n",
        "  result = []\n",
        "  for item in input_list:\n",
        "    if item not in seen:\n",
        "      seen.add(item)\n",
        "      result.append(item)\n",
        "  return result\n",
        "\n",
        "numbers = [12, 24, 35, 24, 88, 120, 155, 88, 120, 155]\n",
        "unique_numbers = remove_duplicates_preserve_order(numbers)\n",
        "print(unique_numbers)"
      ]
    },
    {
      "cell_type": "markdown",
      "metadata": {
        "id": "CFUQ7wNBJhpX"
      },
      "source": [
        "**Question95**:Defining a class and its two child classes."
      ]
    },
    {
      "cell_type": "code",
      "execution_count": 26,
      "metadata": {
        "id": "l1UtiiGkJq-d"
      },
      "outputs": [],
      "source": [
        "class Person:\n",
        "    def __init__(self):\n",
        "        pass\n",
        "    def getGender(self):\n",
        "        return \"Unknown\"\n",
        "\n",
        "class Male(Person):\n",
        "    def __init__(self):\n",
        "        super().__init__()\n",
        "    def getGender(self):\n",
        "        return \"Male\"\n",
        "\n",
        "class Female(Person):\n",
        "    def __init__(self):\n",
        "        super().__init__()\n",
        "    def getGender(self):\n",
        "        return \"Female\""
      ]
    },
    {
      "cell_type": "markdown",
      "metadata": {
        "id": "gvdpEIirKXCy"
      },
      "source": [
        "**Question96**:To count and print the numbers of each character in a string input by console."
      ]
    },
    {
      "cell_type": "code",
      "execution_count": 28,
      "metadata": {
        "colab": {
          "base_uri": "https://localhost:8080/"
        },
        "id": "Yi9IU6YuKcXi",
        "outputId": "01caa387-fdfd-4a2b-f3f2-8166f72be064"
      },
      "outputs": [
        {
          "name": "stdout",
          "output_type": "stream",
          "text": [
            "Enter a string: My name is Muhammad Usman\n",
            " ,4 M,2 U,1 a,4 d,1 e,1 h,1 i,1 m,4 n,2 s,2 u,1 y,1\n"
          ]
        }
      ],
      "source": [
        "def char_frequency(input_string):\n",
        "\n",
        "    char_count = {}\n",
        "    for char in input_string:\n",
        "        char_count[char] = char_count.get(char, 0) + 1\n",
        "\n",
        "    sorted_chars = sorted(char_count.keys())\n",
        "\n",
        "    output = []\n",
        "    for char in sorted_chars:\n",
        "        output.append(f\"{char},{char_count[char]}\")\n",
        "\n",
        "    print(\" \".join(output))\n",
        "\n",
        "if __name__ == \"__main__\":\n",
        "    input_string = input(\"Enter a string: \")\n",
        "    char_frequency(input_string)"
      ]
    },
    {
      "cell_type": "markdown",
      "metadata": {
        "id": "_reqG81LK_Co"
      },
      "source": [
        "**Question97**:Accepts a string from console and prints it in reverse order."
      ]
    },
    {
      "cell_type": "code",
      "execution_count": 29,
      "metadata": {
        "colab": {
          "base_uri": "https://localhost:8080/"
        },
        "id": "4n_1jfFzLHcd",
        "outputId": "fe4eb1b2-0466-4775-ec53-94ce7c670ba1"
      },
      "outputs": [
        {
          "name": "stdout",
          "output_type": "stream",
          "text": [
            "Enter a string: My name is Muhammad Usman\n",
            "namsU dammahuM si eman yM\n"
          ]
        }
      ],
      "source": [
        "def reverse_string():\n",
        "\n",
        "  \"\"\"Accepts a string from console and prints it in reverse order.\"\"\"\n",
        "\n",
        "  input_string = input(\"Enter a string: \")\n",
        "  reversed_string = input_string[::-1]\n",
        "  print(reversed_string)\n",
        "\n",
        "if __name__ == \"__main__\":\n",
        "  reverse_string()"
      ]
    },
    {
      "cell_type": "markdown",
      "metadata": {
        "id": "aBPg3TkxLwd8"
      },
      "source": [
        "**Question98**:Accepts a string from console and prints the characters that have even indexes"
      ]
    },
    {
      "cell_type": "code",
      "execution_count": 30,
      "metadata": {
        "colab": {
          "base_uri": "https://localhost:8080/"
        },
        "id": "bQySwUyJLv1x",
        "outputId": "4438f857-0033-4aa0-ad86-c40999f3ce3f"
      },
      "outputs": [
        {
          "name": "stdout",
          "output_type": "stream",
          "text": [
            "Enter a string: My name is Muhammad Usman\n",
            "M aei uamdUmn\n"
          ]
        }
      ],
      "source": [
        "def print_even_index_chars():\n",
        "\n",
        "  \"\"\"Accepts a string from console and prints the characters that have even indexes.\"\"\"\n",
        "\n",
        "  input_string = input(\"Enter a string: \")\n",
        "  print(input_string[::2])\n",
        "\n",
        "if __name__ == \"__main__\":\n",
        "  print_even_index_chars()"
      ]
    },
    {
      "cell_type": "markdown",
      "metadata": {
        "id": "Mh3poiupMXiY"
      },
      "source": [
        "**Question99**:To prints all permutations of the given list."
      ]
    },
    {
      "cell_type": "code",
      "execution_count": 31,
      "metadata": {
        "colab": {
          "base_uri": "https://localhost:8080/"
        },
        "id": "0DL0ybhrMeYL",
        "outputId": "8ab00809-4fcb-4dc6-ff3d-eb2ad3635864"
      },
      "outputs": [
        {
          "name": "stdout",
          "output_type": "stream",
          "text": [
            "(1, 2, 3)\n",
            "(1, 3, 2)\n",
            "(2, 1, 3)\n",
            "(2, 3, 1)\n",
            "(3, 1, 2)\n",
            "(3, 2, 1)\n"
          ]
        }
      ],
      "source": [
        "import itertools\n",
        "\n",
        "def print_permutations(input_list):\n",
        "  \"\"\"To prints all permutations of the given list.\"\"\"\n",
        "  for permutation in itertools.permutations(input_list):\n",
        "    print(permutation)\n",
        "\n",
        "if __name__ == \"__main__\":\n",
        "  my_list = [1, 2, 3]\n",
        "  print_permutations(my_list)"
      ]
    },
    {
      "cell_type": "markdown",
      "metadata": {
        "id": "anKTXDDUM4Mi"
      },
      "source": [
        "**Question100**:To solves the chicken and rabbit puzzle using a for loop."
      ]
    },
    {
      "cell_type": "code",
      "execution_count": 33,
      "metadata": {
        "colab": {
          "base_uri": "https://localhost:8080/"
        },
        "id": "_BJsQxBzM9js",
        "outputId": "2dfe2ba7-e91d-4285-bf37-918b8a8dfcdb"
      },
      "outputs": [
        {
          "name": "stdout",
          "output_type": "stream",
          "text": [
            "Chickens: 23, Rabbits: 12\n"
          ]
        }
      ],
      "source": [
        "def solve_chicken_rabbit_puzzle():\n",
        "\n",
        "    \"\"\"To solves the chicken and rabbit puzzle using a for loop.\"\"\"\n",
        "\n",
        "    for chickens in range(36):\n",
        "        rabbits = 35 - chickens\n",
        "        if (chickens * 2) + (rabbits * 4) == 94:\n",
        "            print(f\"Chickens: {chickens}, Rabbits: {rabbits}\")\n",
        "            return\n",
        "    print(\"No solution found.\")\n",
        "\n",
        "if __name__ == \"__main__\":\n",
        "    solve_chicken_rabbit_puzzle()"
      ]
    }
  ],
  "metadata": {
    "colab": {
      "provenance": []
    },
    "kernelspec": {
      "display_name": "Python 3",
      "name": "python3"
    },
    "language_info": {
      "name": "python"
    }
  },
  "nbformat": 4,
  "nbformat_minor": 0
}
